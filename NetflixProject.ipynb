{
 "cells": [
  {
   "cell_type": "code",
   "execution_count": 134,
   "id": "ca465dce-3df4-45dd-ba6f-f57d2fd9a25e",
   "metadata": {},
   "outputs": [
    {
     "name": "stdout",
     "output_type": "stream",
     "text": [
      "Path to dataset files: C:\\Users\\spagh\\.cache\\kagglehub\\datasets\\anandshaw2001\\netflix-movies-and-tv-shows\\versions\\1\n"
     ]
    }
   ],
   "source": [
    "import kagglehub\n",
    "\n",
    "# Download dataset\n",
    "path = kagglehub.dataset_download(\"anandshaw2001/netflix-movies-and-tv-shows\")\n",
    "\n",
    "print(\"Path to dataset files:\", path)"
   ]
  },
  {
   "cell_type": "code",
   "execution_count": 164,
   "id": "79f31981-0191-42f7-8cd9-882e1d4a997a",
   "metadata": {},
   "outputs": [],
   "source": [
    "import os\n",
    "import matplotlib.pyplot as plt\n",
    "import numpy as np\n",
    "import pandas as pd\n",
    "import seaborn as sns\n",
    "import plotly.express as px"
   ]
  },
  {
   "cell_type": "code",
   "execution_count": 165,
   "id": "2f762538-70a2-4e28-820d-8d2e70be1257",
   "metadata": {},
   "outputs": [
    {
     "name": "stdout",
     "output_type": "stream",
     "text": [
      "  show_id     type                  title         director  \\\n",
      "0      s1    Movie   Dick Johnson Is Dead  Kirsten Johnson   \n",
      "1      s2  TV Show          Blood & Water              NaN   \n",
      "2      s3  TV Show              Ganglands  Julien Leclercq   \n",
      "3      s4  TV Show  Jailbirds New Orleans              NaN   \n",
      "4      s5  TV Show           Kota Factory              NaN   \n",
      "\n",
      "                                                cast        country  \\\n",
      "0                                                NaN  United States   \n",
      "1  Ama Qamata, Khosi Ngema, Gail Mabalane, Thaban...   South Africa   \n",
      "2  Sami Bouajila, Tracy Gotoas, Samuel Jouy, Nabi...            NaN   \n",
      "3                                                NaN            NaN   \n",
      "4  Mayur More, Jitendra Kumar, Ranjan Raj, Alam K...          India   \n",
      "\n",
      "           date_added  release_year rating   duration  \\\n",
      "0  September 25, 2021          2020  PG-13     90 min   \n",
      "1  September 24, 2021          2021  TV-MA  2 Seasons   \n",
      "2  September 24, 2021          2021  TV-MA   1 Season   \n",
      "3  September 24, 2021          2021  TV-MA   1 Season   \n",
      "4  September 24, 2021          2021  TV-MA  2 Seasons   \n",
      "\n",
      "                                           listed_in  \\\n",
      "0                                      Documentaries   \n",
      "1    International TV Shows, TV Dramas, TV Mysteries   \n",
      "2  Crime TV Shows, International TV Shows, TV Act...   \n",
      "3                             Docuseries, Reality TV   \n",
      "4  International TV Shows, Romantic TV Shows, TV ...   \n",
      "\n",
      "                                         description  \n",
      "0  As her father nears the end of his life, filmm...  \n",
      "1  After crossing paths at a party, a Cape Town t...  \n",
      "2  To protect his family from a powerful drug lor...  \n",
      "3  Feuds, flirtations and toilet talk go down amo...  \n",
      "4  In a city of coaching centers known to train I...  \n"
     ]
    }
   ],
   "source": [
    "# Get the full path to the dataset file\n",
    "csv_file = os.path.join(path, \"netflix_titles.csv\") \n",
    "\n",
    "# Load the dataset into a pandas DataFrame\n",
    "df = pd.read_csv(csv_file)\n",
    "\n",
    "# Display the first few rows\n",
    "print(df.head())"
   ]
  },
  {
   "cell_type": "code",
   "execution_count": 166,
   "id": "e2e3e4a4-cedd-4762-b321-eeb57566e0a4",
   "metadata": {
    "scrolled": true
   },
   "outputs": [
    {
     "name": "stdout",
     "output_type": "stream",
     "text": [
      "<class 'pandas.core.frame.DataFrame'>\n",
      "RangeIndex: 8807 entries, 0 to 8806\n",
      "Data columns (total 12 columns):\n",
      " #   Column        Non-Null Count  Dtype \n",
      "---  ------        --------------  ----- \n",
      " 0   show_id       8807 non-null   object\n",
      " 1   type          8807 non-null   object\n",
      " 2   title         8807 non-null   object\n",
      " 3   director      6173 non-null   object\n",
      " 4   cast          7982 non-null   object\n",
      " 5   country       7976 non-null   object\n",
      " 6   date_added    8797 non-null   object\n",
      " 7   release_year  8807 non-null   int64 \n",
      " 8   rating        8803 non-null   object\n",
      " 9   duration      8804 non-null   object\n",
      " 10  listed_in     8807 non-null   object\n",
      " 11  description   8807 non-null   object\n",
      "dtypes: int64(1), object(11)\n",
      "memory usage: 825.8+ KB\n",
      "None\n"
     ]
    }
   ],
   "source": [
    "# Display a summary of the DataFrame\n",
    "print(df.info())"
   ]
  },
  {
   "cell_type": "code",
   "execution_count": 167,
   "id": "3d0c1e4b-9b91-44ea-91c0-f27e2cb20cc4",
   "metadata": {},
   "outputs": [
    {
     "data": {
      "text/html": [
       "<div>\n",
       "<style scoped>\n",
       "    .dataframe tbody tr th:only-of-type {\n",
       "        vertical-align: middle;\n",
       "    }\n",
       "\n",
       "    .dataframe tbody tr th {\n",
       "        vertical-align: top;\n",
       "    }\n",
       "\n",
       "    .dataframe thead th {\n",
       "        text-align: right;\n",
       "    }\n",
       "</style>\n",
       "<table border=\"1\" class=\"dataframe\">\n",
       "  <thead>\n",
       "    <tr style=\"text-align: right;\">\n",
       "      <th></th>\n",
       "      <th>release_year</th>\n",
       "    </tr>\n",
       "  </thead>\n",
       "  <tbody>\n",
       "    <tr>\n",
       "      <th>count</th>\n",
       "      <td>8807.000000</td>\n",
       "    </tr>\n",
       "    <tr>\n",
       "      <th>mean</th>\n",
       "      <td>2014.180198</td>\n",
       "    </tr>\n",
       "    <tr>\n",
       "      <th>std</th>\n",
       "      <td>8.819312</td>\n",
       "    </tr>\n",
       "    <tr>\n",
       "      <th>min</th>\n",
       "      <td>1925.000000</td>\n",
       "    </tr>\n",
       "    <tr>\n",
       "      <th>25%</th>\n",
       "      <td>2013.000000</td>\n",
       "    </tr>\n",
       "    <tr>\n",
       "      <th>50%</th>\n",
       "      <td>2017.000000</td>\n",
       "    </tr>\n",
       "    <tr>\n",
       "      <th>75%</th>\n",
       "      <td>2019.000000</td>\n",
       "    </tr>\n",
       "    <tr>\n",
       "      <th>max</th>\n",
       "      <td>2021.000000</td>\n",
       "    </tr>\n",
       "  </tbody>\n",
       "</table>\n",
       "</div>"
      ],
      "text/plain": [
       "       release_year\n",
       "count   8807.000000\n",
       "mean    2014.180198\n",
       "std        8.819312\n",
       "min     1925.000000\n",
       "25%     2013.000000\n",
       "50%     2017.000000\n",
       "75%     2019.000000\n",
       "max     2021.000000"
      ]
     },
     "execution_count": 167,
     "metadata": {},
     "output_type": "execute_result"
    }
   ],
   "source": [
    "# Generates descriptive statistics of the DataFrame\n",
    "df.describe()"
   ]
  },
  {
   "cell_type": "code",
   "execution_count": 168,
   "id": "7e50b5a6-e26d-49f1-840f-a2bb799fc6da",
   "metadata": {},
   "outputs": [
    {
     "name": "stdout",
     "output_type": "stream",
     "text": [
      "DataFrame Columns:\n",
      "Index(['show_id', 'type', 'title', 'director', 'cast', 'country', 'date_added',\n",
      "       'release_year', 'rating', 'duration', 'listed_in', 'description'],\n",
      "      dtype='object')\n"
     ]
    }
   ],
   "source": [
    "# Display DataFrame columns\n",
    "df_columns = df.columns\n",
    "print(\"DataFrame Columns:\")\n",
    "print(df_columns)"
   ]
  },
  {
   "cell_type": "code",
   "execution_count": 169,
   "id": "2a6f10d3-74ee-4ef3-9f41-17c694b4009c",
   "metadata": {},
   "outputs": [
    {
     "name": "stdout",
     "output_type": "stream",
     "text": [
      "Release Year Distribution:\n",
      "              Count  Percentage %\n",
      "release_year                     \n",
      "2018           1147     13.023731\n",
      "2017           1032     11.717952\n",
      "2019           1030     11.695242\n",
      "2020            953     10.820938\n",
      "2016            902     10.241853\n",
      "...             ...           ...\n",
      "1961              1      0.011355\n",
      "1925              1      0.011355\n",
      "1959              1      0.011355\n",
      "1966              1      0.011355\n",
      "1947              1      0.011355\n",
      "\n",
      "[74 rows x 2 columns]\n"
     ]
    }
   ],
   "source": [
    "# Calculate percentage vals and create the percentage column\n",
    "release_year_counts = df[\"release_year\"].value_counts().to_frame(name=\"Count\")\n",
    "release_year_counts[\"Percentage %\"] = (release_year_counts[\"Count\"] / len(df)) * 100\n",
    "\n",
    "# Display results sorted in descending order\n",
    "release_year_counts = release_year_counts.sort_values(by=\"Count\", ascending=False)\n",
    "\n",
    "# Display DataFrame\n",
    "print(\"Release Year Distribution:\")\n",
    "print(release_year_counts)"
   ]
  },
  {
   "cell_type": "markdown",
   "id": "f8413869-90b3-42f9-b437-da670f72026e",
   "metadata": {},
   "source": [
    "## Data Cleansing"
   ]
  },
  {
   "cell_type": "markdown",
   "id": "dba70b23-e7be-4db6-b1cc-518a1e6d57e5",
   "metadata": {},
   "source": [
    "#### Lets check for any outliers in the year column"
   ]
  },
  {
   "cell_type": "code",
   "execution_count": 170,
   "id": "69601f95-d6d7-4582-9d44-abeb48f5e68b",
   "metadata": {},
   "outputs": [
    {
     "name": "stdout",
     "output_type": "stream",
     "text": [
      "Missing Values Summary:\n",
      "            Total Missing  Missing %\n",
      "director             2634  29.908028\n",
      "country               831   9.435676\n",
      "cast                  825   9.367549\n",
      "date_added             10   0.113546\n",
      "rating                  4   0.045418\n",
      "duration                3   0.034064\n"
     ]
    }
   ],
   "source": [
    "# Display missing values as a percent to see if any columns need to be dropped\n",
    "missing_data = df.isnull().sum().to_frame(name=\"Total Missing\")\n",
    "missing_data[\"Missing %\"] = (missing_data[\"Total Missing\"] / len(df)) * 100 \n",
    "\n",
    "# Display results sorted by highest missing percentage\n",
    "missing_data = missing_data[missing_data[\"Total Missing\"] > 0]\n",
    "missing_data = missing_data.sort_values(by=\"Missing %\", ascending=False)\n",
    "\n",
    "# Display DataFrame\n",
    "print(\"Missing Values Summary:\")\n",
    "print(missing_data)"
   ]
  },
  {
   "cell_type": "markdown",
   "id": "ac9afca6-e62a-4c80-a0ce-691942777800",
   "metadata": {},
   "source": [
    "#### One out of approximately every three data points has a missing director so lets fill with Unknown\n",
    "<blockquote>This could also be done for cast and country</blockquote>"
   ]
  },
  {
   "cell_type": "code",
   "execution_count": 171,
   "id": "ad336fec-2b63-4f11-9bc9-0d48876f6f21",
   "metadata": {
    "scrolled": true
   },
   "outputs": [],
   "source": [
    "# Fill or drop missing values based on your need\n",
    "df.fillna({\"cast\": \"Unknown\", \"country\": \"Unknown\", \"director\": \"Unknown\", \"rating\": \"Unknown\"}, inplace=True)\n",
    "df.dropna(subset=[\"date_added\"], inplace=True)"
   ]
  },
  {
   "cell_type": "markdown",
   "id": "44bdcd48-1253-4680-b804-c2d476eff5ed",
   "metadata": {},
   "source": [
    "#### Are there any duplicates?"
   ]
  },
  {
   "cell_type": "code",
   "execution_count": 172,
   "id": "ae76919a-b640-45d4-ac0c-d11fc4b9dbb2",
   "metadata": {},
   "outputs": [
    {
     "name": "stdout",
     "output_type": "stream",
     "text": [
      "Duplicates Found: 0\n"
     ]
    }
   ],
   "source": [
    "# Check for duplicates\n",
    "print(\"Duplicates Found:\", df.duplicated().sum())\n",
    "\n",
    "# Drop duplicates if necessary\n",
    "# df.drop_duplicates(inplace=True)"
   ]
  },
  {
   "cell_type": "markdown",
   "id": "4e05ffca-8fe4-448f-97d0-24294e0de2ec",
   "metadata": {},
   "source": [
    "#### Are there any leading, multiple between, and trailing spaces?"
   ]
  },
  {
   "cell_type": "code",
   "execution_count": 173,
   "id": "c4956105-0ffb-4bdb-bce2-10093abb8197",
   "metadata": {
    "scrolled": true
   },
   "outputs": [
    {
     "name": "stdout",
     "output_type": "stream",
     "text": [
      "         Column  Leading Spaces  Trailing Spaces  \\\n",
      "0       show_id               0                0   \n",
      "1          type               0                0   \n",
      "2         title               0                0   \n",
      "3      director               0                0   \n",
      "4          cast               0                0   \n",
      "5       country               0                0   \n",
      "6    date_added              88                0   \n",
      "7        rating               0                0   \n",
      "8      duration               0                0   \n",
      "9     listed_in               0                0   \n",
      "10  description               0                0   \n",
      "\n",
      "    Multiple Spaces (Between Words)  Total Issues  Affected %  \n",
      "0                                 0             0        0.00  \n",
      "1                                 0             0        0.00  \n",
      "2                                 3             3        0.03  \n",
      "3                                 0             0        0.00  \n",
      "4                                 7             7        0.08  \n",
      "5                                 0             0        0.00  \n",
      "6                                 0            88        1.00  \n",
      "7                                 0             0        0.00  \n",
      "8                                 0             0        0.00  \n",
      "9                                 0             0        0.00  \n",
      "10                                7             7        0.08  \n"
     ]
    }
   ],
   "source": [
    "# Summary function of leading, between, and trailing spaces\n",
    "def check_extra_spaces(df):\n",
    "    space_summary = []\n",
    "    \n",
    "    # Only check for spaces in text columns\n",
    "    for col in df.select_dtypes(include=[\"object\"]):  \n",
    "        total_rows = len(df)\n",
    "\n",
    "        # Count issues\n",
    "        leading_spaces = df[col].astype(str).str.match(r\"^\\s+\").sum()\n",
    "        trailing_spaces = df[col].astype(str).str.match(r\"\\s+$\").sum()\n",
    "        multiple_spaces = df[col].astype(str).str.contains(r\"\\s{2,}\", regex=True).sum()\n",
    "\n",
    "        # Store results\n",
    "        space_summary.append({\n",
    "            \"Column\": col,\n",
    "            \"Leading Spaces\": leading_spaces,\n",
    "            \"Trailing Spaces\": trailing_spaces,\n",
    "            \"Multiple Spaces (Between Words)\": multiple_spaces,\n",
    "            \"Total Issues\": leading_spaces + trailing_spaces + multiple_spaces,\n",
    "            \"Affected %\": round(((leading_spaces + trailing_spaces + multiple_spaces) / total_rows) * 100, 2)\n",
    "        })\n",
    "\n",
    "    # Convert the summary into a DataFrame\n",
    "    summary_df = pd.DataFrame(space_summary)\n",
    "\n",
    "    return summary_df\n",
    "\n",
    "# Display the summary\n",
    "summary = check_extra_spaces(df)\n",
    "print(summary)"
   ]
  },
  {
   "cell_type": "markdown",
   "id": "4034bbb2-3f54-47d5-82be-a368abe02877",
   "metadata": {},
   "source": [
    "#### Seeing that there are, let's delete those unwanted spaces and verify that they are gone."
   ]
  },
  {
   "cell_type": "code",
   "execution_count": 174,
   "id": "74bb951f-d2f3-4749-ad8f-2615b34c3fd6",
   "metadata": {
    "scrolled": true
   },
   "outputs": [
    {
     "name": "stdout",
     "output_type": "stream",
     "text": [
      "   Column  Leading Spaces  Trailing Spaces  Multiple Spaces (Between Words)  \\\n",
      "0  Column               0                0                                0   \n",
      "\n",
      "   Total Issues  Affected %  \n",
      "0             0         0.0  \n"
     ]
    }
   ],
   "source": [
    "# Cleaning extra spaces function\n",
    "def clean_extra_spaces(df):\n",
    "    # Removes leading, trailing, and multiple spaces in all text-based columns.\n",
    "    for col in df.select_dtypes(include=[\"object\"]):  # Only clean strings first\n",
    "        df[col] = df[col].astype(str).str.strip()\n",
    "        df[col] = df[col].str.replace(r\"\\s{2,}\", \" \", regex=True)\n",
    "    return df\n",
    "\n",
    "extra_spaces_df = check_extra_spaces(df)\n",
    "summary = check_extra_spaces(extra_spaces_df)\n",
    "\n",
    "print(summary)"
   ]
  },
  {
   "cell_type": "code",
   "execution_count": 175,
   "id": "009b64a2",
   "metadata": {},
   "outputs": [
    {
     "name": "stdout",
     "output_type": "stream",
     "text": [
      "   Column  Leading Spaces  Trailing Spaces  Multiple Spaces (Between Words)  \\\n",
      "0  Column               0                0                                0   \n",
      "\n",
      "   Total Issues  Affected %  \n",
      "0             0         0.0  \n"
     ]
    }
   ],
   "source": [
    "# Cleaning extra spaces function\n",
    "def clean_extra_spaces(df):\n",
    "    # Removes leading, trailing, and multiple spaces in all text-based columns.\n",
    "    for col in df.select_dtypes(include=[\"object\"]):  # Only clean strings first\n",
    "        df[col] = df[col].astype(str).str.strip()\n",
    "        df[col] = df[col].str.replace(r\"\\s{2,}\", \" \", regex=True)\n",
    "    return df\n",
    "\n",
    "extra_spaces_df = check_extra_spaces(df)\n",
    "summary = check_extra_spaces(extra_spaces_df)\n",
    "\n",
    "print(summary)"
   ]
  },
  {
   "cell_type": "markdown",
   "id": "dd04e329",
   "metadata": {},
   "source": [
    "## Check country columns to see if there are any anomalies\n",
    "<blockquote>Apparently theres a \"United States\" column and a \"United States,\" column</blockquote>"
   ]
  },
  {
   "cell_type": "code",
   "execution_count": null,
   "id": "d31f2cc0",
   "metadata": {},
   "outputs": [
    {
     "name": "stdout",
     "output_type": "stream",
     "text": [
      "Present\n"
     ]
    }
   ],
   "source": [
    "# Unique values in the country column\n",
    "df[\"country\"].unique()\n",
    "\n",
    "# Check if United States, exists in the country column\n",
    "if \"United States,\" in df[\"country\"].values:\n",
    "    print(\"Present\")\n",
    "else:\n",
    "    print(\"Missing\")\n",
    "    \n",
    "# Let's drop the column and create a new DataFrame\n",
    "df = df[df[\"country\"] != \"United States,\"]    \n",
    "    "
   ]
  },
  {
   "cell_type": "markdown",
   "id": "5827172f-d8c7-4a48-b0ca-6b19a8158c24",
   "metadata": {},
   "source": [
    "#### Convert the date_added column to a datetime object and verify that all the values are in a valid format\n",
    "<blockquote>We need to do this in order to visualize datettime data later on</blockquote>"
   ]
  },
  {
   "cell_type": "code",
   "execution_count": 177,
   "id": "cc8ecd53-7d42-446a-b744-03d28746fd47",
   "metadata": {},
   "outputs": [
    {
     "data": {
      "text/plain": [
       "np.int64(0)"
      ]
     },
     "execution_count": 177,
     "metadata": {},
     "output_type": "execute_result"
    }
   ],
   "source": [
    "df[\"date_added\"] = pd.to_datetime(df[\"date_added\"].str.lstrip(), format=\"%B %d, %Y\", errors=\"raise\")\n",
    "df[\"date_added\"].isna().sum()"
   ]
  },
  {
   "cell_type": "markdown",
   "id": "5a780134-ad4b-4a61-8fbd-59fb40f176b3",
   "metadata": {},
   "source": [
    "#### Do all of the values in content rating make sense?"
   ]
  },
  {
   "cell_type": "code",
   "execution_count": 178,
   "id": "91b4a128-aed2-4b58-845e-29ac11d31d06",
   "metadata": {},
   "outputs": [
    {
     "data": {
      "text/plain": [
       "array(['PG-13', 'TV-MA', 'PG', 'TV-14', 'TV-PG', 'TV-Y', 'TV-Y7', 'R',\n",
       "       'TV-G', 'G', 'NC-17', '74 min', '84 min', '66 min', 'NR',\n",
       "       'Unknown', 'TV-Y7-FV', 'UR'], dtype=object)"
      ]
     },
     "execution_count": 178,
     "metadata": {},
     "output_type": "execute_result"
    }
   ],
   "source": [
    "# View all unique values from the rating column\n",
    "df[\"rating\"].unique()"
   ]
  },
  {
   "cell_type": "markdown",
   "id": "83244b22-15e4-4a0f-9c82-6baaf6f91d66",
   "metadata": {},
   "source": [
    "<blockquote>Looks like we have ratings such as 66 min, 74 min, 84 min, and Unknown</blockquote>\n",
    "<blockquote>Lets look at those rows specifically to identify the quality of the data</blockquote>"
   ]
  },
  {
   "cell_type": "code",
   "execution_count": 179,
   "id": "969d25d6-e84c-45d0-bfc3-c07ee6d5fda2",
   "metadata": {},
   "outputs": [
    {
     "name": "stdout",
     "output_type": "stream",
     "text": [
      "     show_id     type                                              title  \\\n",
      "5541   s5542    Movie                                    Louis C.K. 2017   \n",
      "5794   s5795    Movie                              Louis C.K.: Hilarious   \n",
      "5813   s5814    Movie               Louis C.K.: Live at the Comedy Store   \n",
      "5989   s5990    Movie  13TH: A Conversation with Oprah Winfrey & Ava ...   \n",
      "6827   s6828  TV Show                  Gargantia on the Verdurous Planet   \n",
      "7312   s7313  TV Show                                       Little Lunch   \n",
      "7537   s7538    Movie                               My Honor Was Loyalty   \n",
      "\n",
      "             director                                               cast  \\\n",
      "5541       Louis C.K.                                         Louis C.K.   \n",
      "5794       Louis C.K.                                         Louis C.K.   \n",
      "5813       Louis C.K.                                         Louis C.K.   \n",
      "5989          Unknown                        Oprah Winfrey, Ava DuVernay   \n",
      "6827          Unknown  Kaito Ishikawa, Hisako Kanemoto, Ai Kayano, Ka...   \n",
      "7312          Unknown  Flynn Curry, Olivia Deeble, Madison Lu, Oisín ...   \n",
      "7537  Alessandro Pepe  Leone Frisa, Paolo Vaccarino, Francesco Miglio...   \n",
      "\n",
      "            country date_added  release_year   rating  duration  \\\n",
      "5541  United States 2017-04-04          2017   74 min       NaN   \n",
      "5794  United States 2016-09-16          2010   84 min       NaN   \n",
      "5813  United States 2016-08-15          2015   66 min       NaN   \n",
      "5989        Unknown 2017-01-26          2017  Unknown    37 min   \n",
      "6827          Japan 2016-12-01          2013  Unknown  1 Season   \n",
      "7312      Australia 2018-02-01          2015  Unknown  1 Season   \n",
      "7537          Italy 2017-03-01          2015  Unknown   115 min   \n",
      "\n",
      "                                 listed_in  \\\n",
      "5541                                Movies   \n",
      "5794                                Movies   \n",
      "5813                                Movies   \n",
      "5989                                Movies   \n",
      "6827  Anime Series, International TV Shows   \n",
      "7312                 Kids' TV, TV Comedies   \n",
      "7537                                Dramas   \n",
      "\n",
      "                                            description  \n",
      "5541  Louis C.K. muses on religion, eternal love, gi...  \n",
      "5794  Emmy-winning comedy writer Louis C.K. brings h...  \n",
      "5813  The comic puts his trademark hilarious/thought...  \n",
      "5989  Oprah Winfrey sits down with director Ava DuVe...  \n",
      "6827  After falling through a wormhole, a space-dwel...  \n",
      "7312  Adopting a child's perspective, this show take...  \n",
      "7537  Amid the chaos and horror of World War II, a c...  \n"
     ]
    }
   ],
   "source": [
    "# Filter the DataFrame\n",
    "filtered_df = df[df['rating'].isin(['66 min', '74 min', '84 min', 'Unknown'])]\n",
    "\n",
    "# Display DataFrame\n",
    "print(filtered_df)"
   ]
  },
  {
   "cell_type": "markdown",
   "id": "22d999cb-3117-4732-81ac-73a5cd64cddf",
   "metadata": {},
   "source": [
    "<blockquote>Seems like the Louis C.K. comedy specials ratings should be moved to the duration column</blockquote>\n",
    "<blockquote>We can safely asume they are TV-MA</blockquote>"
   ]
  },
  {
   "cell_type": "code",
   "execution_count": null,
   "id": "7dc9583e-dae1-48bf-8b40-f2e53393fce1",
   "metadata": {},
   "outputs": [],
   "source": [
    "# Mask for incorrect rating\n",
    "mask = df[\"rating\"].isin([\"66 min\", \"74 min\", \"84 min\"])\n",
    "\n",
    "# Move ratings to corresponding duration column\n",
    "df.loc[mask, \"duration\"] = df.loc[mask, \"rating\"]\n",
    "\n",
    "# Replace the rating values with \"TV-MA\"\n",
    "df.loc[mask, \"rating\"] = \"TV-MA\""
   ]
  },
  {
   "cell_type": "markdown",
   "id": "89593921-c669-44d8-aa1b-48d3b17f7720",
   "metadata": {},
   "source": [
    "#### Let's see how many unique values are in the listed in category"
   ]
  },
  {
   "cell_type": "code",
   "execution_count": 181,
   "id": "34b0e2e8-a52c-426e-9c59-c12b2664b62e",
   "metadata": {
    "scrolled": true
   },
   "outputs": [
    {
     "data": {
      "text/plain": [
       "array(['Documentaries', 'International TV Shows, TV Dramas, TV Mysteries',\n",
       "       'Crime TV Shows, International TV Shows, TV Action & Adventure',\n",
       "       'Docuseries, Reality TV',\n",
       "       'International TV Shows, Romantic TV Shows, TV Comedies',\n",
       "       'TV Dramas, TV Horror, TV Mysteries', 'Children & Family Movies',\n",
       "       'Dramas, Independent Movies, International Movies',\n",
       "       'British TV Shows, Reality TV', 'Comedies, Dramas',\n",
       "       'Crime TV Shows, Docuseries, International TV Shows',\n",
       "       'Dramas, International Movies',\n",
       "       'Children & Family Movies, Comedies',\n",
       "       'British TV Shows, Crime TV Shows, Docuseries',\n",
       "       'TV Comedies, TV Dramas', 'Documentaries, International Movies',\n",
       "       'Crime TV Shows, Spanish-Language TV Shows, TV Dramas',\n",
       "       'Thrillers',\n",
       "       'International TV Shows, Spanish-Language TV Shows, TV Action & Adventure',\n",
       "       'International TV Shows, TV Action & Adventure, TV Dramas',\n",
       "       'Comedies, International Movies',\n",
       "       'Comedies, International Movies, Romantic Movies',\n",
       "       'Docuseries, International TV Shows, Reality TV',\n",
       "       'Comedies, International Movies, Music & Musicals', 'Comedies',\n",
       "       'Horror Movies, Sci-Fi & Fantasy', 'TV Comedies',\n",
       "       'British TV Shows, International TV Shows, TV Comedies',\n",
       "       'International TV Shows, TV Dramas, TV Thrillers', \"Kids' TV\",\n",
       "       'Dramas, International Movies, Thrillers',\n",
       "       'Action & Adventure, Dramas, International Movies',\n",
       "       \"Kids' TV, TV Comedies\", 'Action & Adventure, Dramas',\n",
       "       \"Kids' TV, TV Sci-Fi & Fantasy\",\n",
       "       'Action & Adventure, Classic Movies, Dramas',\n",
       "       'Dramas, Horror Movies, Thrillers',\n",
       "       'Action & Adventure, Horror Movies, Thrillers',\n",
       "       'Action & Adventure', 'Dramas, Thrillers',\n",
       "       'International TV Shows, TV Dramas',\n",
       "       'International TV Shows, TV Dramas, TV Sci-Fi & Fantasy',\n",
       "       'Action & Adventure, Anime Features, International Movies',\n",
       "       'Reality TV', 'Docuseries, International TV Shows',\n",
       "       'Documentaries, International Movies, Sports Movies',\n",
       "       'International TV Shows, Reality TV, Romantic TV Shows',\n",
       "       'British TV Shows, Docuseries, International TV Shows',\n",
       "       'Anime Series, International TV Shows',\n",
       "       'Comedies, Dramas, International Movies',\n",
       "       'Crime TV Shows, TV Comedies, TV Dramas',\n",
       "       'Action & Adventure, Comedies, Dramas', \"Anime Series, Kids' TV\",\n",
       "       'International Movies, Thrillers', \"Kids' TV, Korean TV Shows\",\n",
       "       'Documentaries, Sports Movies', 'Sci-Fi & Fantasy, Thrillers',\n",
       "       'Dramas, International Movies, Romantic Movies',\n",
       "       'Documentaries, Music & Musicals',\n",
       "       \"Kids' TV, TV Comedies, TV Sci-Fi & Fantasy\",\n",
       "       \"British TV Shows, Kids' TV\", 'Docuseries, Science & Nature TV',\n",
       "       'Children & Family Movies, Dramas',\n",
       "       \"Kids' TV, TV Dramas, Teen TV Shows\",\n",
       "       'Crime TV Shows, International TV Shows, Spanish-Language TV Shows',\n",
       "       'Docuseries, International TV Shows, Spanish-Language TV Shows',\n",
       "       'Dramas', 'Comedies, Romantic Movies', 'Dramas, Romantic Movies',\n",
       "       'Comedies, Dramas, Independent Movies',\n",
       "       'Crime TV Shows, TV Action & Adventure, TV Comedies',\n",
       "       'Children & Family Movies, Music & Musicals',\n",
       "       'Action & Adventure, Classic Movies, Cult Movies',\n",
       "       'International TV Shows, TV Action & Adventure, TV Comedies',\n",
       "       'Action & Adventure, Sci-Fi & Fantasy',\n",
       "       'Action & Adventure, Comedies', 'Classic Movies, Comedies, Dramas',\n",
       "       'Comedies, Cult Movies', 'Comedies, Cult Movies, Music & Musicals',\n",
       "       'Comedies, Music & Musicals', 'TV Shows',\n",
       "       'Action & Adventure, International Movies',\n",
       "       'Anime Series, International TV Shows, Teen TV Shows',\n",
       "       'Action & Adventure, Children & Family Movies, Cult Movies',\n",
       "       'Comedies, Dramas, Romantic Movies',\n",
       "       'Comedies, Cult Movies, Sci-Fi & Fantasy',\n",
       "       'Classic Movies, Dramas',\n",
       "       'Action & Adventure, Children & Family Movies, Comedies',\n",
       "       'Dramas, Faith & Spirituality', 'Documentaries, LGBTQ Movies',\n",
       "       'Action & Adventure, Classic Movies', 'Docuseries',\n",
       "       'International TV Shows, TV Comedies',\n",
       "       'Dramas, Independent Movies',\n",
       "       'Action & Adventure, Comedies, International Movies',\n",
       "       'International TV Shows, Spanish-Language TV Shows, TV Dramas',\n",
       "       'Crime TV Shows, International TV Shows, TV Dramas',\n",
       "       'Action & Adventure, Horror Movies, International Movies',\n",
       "       'Comedies, International Movies, Sci-Fi & Fantasy',\n",
       "       'Action & Adventure, International Movies, Music & Musicals',\n",
       "       'Dramas, International Movies, Music & Musicals',\n",
       "       'Horror Movies, International Movies', 'Reality TV, Teen TV Shows',\n",
       "       'Crime TV Shows, TV Dramas, TV Mysteries',\n",
       "       'International TV Shows, Reality TV',\n",
       "       'International TV Shows, TV Comedies, TV Dramas',\n",
       "       'Dramas, Independent Movies, Romantic Movies', 'Horror Movies',\n",
       "       'Documentaries, LGBTQ Movies, Sports Movies',\n",
       "       'Horror Movies, International Movies, Thrillers',\n",
       "       'Action & Adventure, Anime Features',\n",
       "       'TV Dramas, TV Mysteries, TV Sci-Fi & Fantasy',\n",
       "       'International TV Shows, Spanish-Language TV Shows, TV Comedies',\n",
       "       'Children & Family Movies, Comedies, Music & Musicals',\n",
       "       'Comedies, Independent Movies',\n",
       "       'Anime Series, International TV Shows, Romantic TV Shows',\n",
       "       'Classic Movies, Dramas, Independent Movies',\n",
       "       'International TV Shows, Romantic TV Shows, Spanish-Language TV Shows',\n",
       "       'International TV Shows, TV Dramas, Teen TV Shows',\n",
       "       'Stand-Up Comedy',\n",
       "       'Action & Adventure, Anime Features, Children & Family Movies',\n",
       "       'International TV Shows, Romantic TV Shows, TV Dramas',\n",
       "       'International Movies, Music & Musicals',\n",
       "       'TV Action & Adventure, TV Dramas, TV Mysteries',\n",
       "       'Horror Movies, Independent Movies, International Movies',\n",
       "       'Comedies, Cult Movies, International Movies',\n",
       "       'Classic Movies, Dramas, International Movies', 'Movies',\n",
       "       'Crime TV Shows, Docuseries',\n",
       "       'Children & Family Movies, Comedies, Sci-Fi & Fantasy',\n",
       "       'Anime Series, International TV Shows, TV Thrillers',\n",
       "       'Action & Adventure, Horror Movies, Sci-Fi & Fantasy',\n",
       "       'Classic Movies, Comedies, Cult Movies',\n",
       "       'TV Dramas, Teen TV Shows',\n",
       "       'Action & Adventure, Sci-Fi & Fantasy, Thrillers',\n",
       "       'Children & Family Movies, Comedies, Dramas',\n",
       "       'Dramas, Sports Movies',\n",
       "       'Action & Adventure, Dramas, Sci-Fi & Fantasy',\n",
       "       'Action & Adventure, Comedies, Cult Movies',\n",
       "       'Dramas, Independent Movies, Thrillers',\n",
       "       'TV Dramas, TV Sci-Fi & Fantasy',\n",
       "       'Action & Adventure, International Movies, Thrillers',\n",
       "       'British TV Shows, International TV Shows, Reality TV',\n",
       "       'TV Action & Adventure, TV Dramas, Teen TV Shows', 'Anime Series',\n",
       "       'Crime TV Shows, TV Action & Adventure, TV Sci-Fi & Fantasy',\n",
       "       'Crime TV Shows, International TV Shows, TV Comedies',\n",
       "       'Stand-Up Comedy & Talk Shows, TV Comedies',\n",
       "       'Classic & Cult TV, TV Action & Adventure, TV Dramas',\n",
       "       'Children & Family Movies, Sports Movies',\n",
       "       'TV Action & Adventure, TV Sci-Fi & Fantasy',\n",
       "       'Anime Series, Stand-Up Comedy & Talk Shows', 'TV Dramas',\n",
       "       'Anime Features, Children & Family Movies, International Movies',\n",
       "       'Classic & Cult TV, Crime TV Shows, International TV Shows',\n",
       "       'Crime TV Shows, International TV Shows, Romantic TV Shows',\n",
       "       'Horror Movies, LGBTQ Movies',\n",
       "       'Action & Adventure, Dramas, Romantic Movies',\n",
       "       'Documentaries, International Movies, Music & Musicals',\n",
       "       'TV Comedies, TV Dramas, Teen TV Shows',\n",
       "       'Children & Family Movies, Comedies, Sports Movies',\n",
       "       'Children & Family Movies, Dramas, International Movies',\n",
       "       'Comedies, Documentaries, International Movies',\n",
       "       'Romantic TV Shows, TV Dramas',\n",
       "       'Anime Series, TV Horror, TV Thrillers',\n",
       "       'International Movies, Romantic Movies',\n",
       "       'TV Action & Adventure, TV Dramas, TV Sci-Fi & Fantasy',\n",
       "       \"Kids' TV, Korean TV Shows, TV Comedies\",\n",
       "       'British TV Shows, Crime TV Shows, International TV Shows',\n",
       "       'Crime TV Shows, TV Horror, TV Mysteries',\n",
       "       'Docuseries, International TV Shows, Science & Nature TV',\n",
       "       'British TV Shows, International TV Shows, TV Dramas',\n",
       "       \"Kids' TV, TV Action & Adventure, TV Sci-Fi & Fantasy\",\n",
       "       'International Movies, Romantic Movies, Thrillers',\n",
       "       'Action & Adventure, Cult Movies, International Movies',\n",
       "       'Action & Adventure, Comedies, Sci-Fi & Fantasy',\n",
       "       \"International TV Shows, Kids' TV, TV Mysteries\",\n",
       "       'Action & Adventure, Thrillers',\n",
       "       'Dramas, Faith & Spirituality, International Movies',\n",
       "       'Action & Adventure, Classic Movies, Comedies',\n",
       "       'Action & Adventure, Comedies, Sports Movies',\n",
       "       'Action & Adventure, Children & Family Movies, Classic Movies',\n",
       "       'Action & Adventure, Children & Family Movies, Dramas',\n",
       "       'Horror Movies, Thrillers', 'Action & Adventure, Romantic Movies',\n",
       "       'Dramas, Romantic Movies, Sci-Fi & Fantasy',\n",
       "       'Dramas, Music & Musicals, Romantic Movies',\n",
       "       'Anime Series, Crime TV Shows, International TV Shows',\n",
       "       'Reality TV, Romantic TV Shows',\n",
       "       'International Movies, Music & Musicals, Romantic Movies',\n",
       "       'Reality TV, TV Action & Adventure, TV Mysteries',\n",
       "       'Crime TV Shows, TV Dramas',\n",
       "       'International TV Shows, Reality TV, Spanish-Language TV Shows',\n",
       "       'Crime TV Shows, TV Dramas, TV Thrillers',\n",
       "       'British TV Shows, Docuseries',\n",
       "       'International TV Shows, Korean TV Shows, TV Comedies',\n",
       "       'Action & Adventure, Anime Features, Classic Movies',\n",
       "       'TV Action & Adventure, TV Dramas, TV Horror',\n",
       "       'Crime TV Shows, International TV Shows, TV Thrillers',\n",
       "       'Anime Series, Crime TV Shows, TV Horror',\n",
       "       'Anime Features, Documentaries', 'Comedies, Horror Movies',\n",
       "       'International TV Shows, Spanish-Language TV Shows, Stand-Up Comedy & Talk Shows',\n",
       "       'Children & Family Movies, Documentaries, International Movies',\n",
       "       'Romantic TV Shows, TV Comedies, TV Dramas',\n",
       "       'Dramas, Faith & Spirituality, Romantic Movies',\n",
       "       'Dramas, Independent Movies, LGBTQ Movies',\n",
       "       'Comedies, Independent Movies, LGBTQ Movies',\n",
       "       'Action & Adventure, Cult Movies, Sci-Fi & Fantasy',\n",
       "       'Cult Movies, Horror Movies',\n",
       "       'Action & Adventure, Dramas, Sports Movies',\n",
       "       'Anime Series, Romantic TV Shows, Teen TV Shows',\n",
       "       'Dramas, International Movies, LGBTQ Movies',\n",
       "       'Dramas, Romantic Movies, Thrillers',\n",
       "       'Children & Family Movies, Dramas, Faith & Spirituality',\n",
       "       'Dramas, International Movies, Sports Movies',\n",
       "       'Action & Adventure, Horror Movies',\n",
       "       'Documentaries, International Movies, LGBTQ Movies',\n",
       "       'Dramas, Independent Movies, Sci-Fi & Fantasy',\n",
       "       'Comedies, Independent Movies, International Movies',\n",
       "       'Reality TV, TV Horror, TV Thrillers',\n",
       "       'TV Action & Adventure, TV Horror, TV Sci-Fi & Fantasy',\n",
       "       'International TV Shows, TV Horror, TV Sci-Fi & Fantasy',\n",
       "       'Independent Movies, International Movies, Thrillers',\n",
       "       'Independent Movies, Thrillers', 'Documentaries, Dramas',\n",
       "       'Action & Adventure, Sports Movies',\n",
       "       'Dramas, International Movies, Sci-Fi & Fantasy',\n",
       "       'Comedies, Independent Movies, Romantic Movies',\n",
       "       'Horror Movies, Romantic Movies, Sci-Fi & Fantasy',\n",
       "       'International TV Shows, Stand-Up Comedy & Talk Shows',\n",
       "       'Action & Adventure, Anime Features, Horror Movies',\n",
       "       'Cult Movies, Dramas, Music & Musicals', 'TV Dramas, TV Thrillers',\n",
       "       'Crime TV Shows, International TV Shows, Korean TV Shows',\n",
       "       'TV Horror, TV Mysteries, TV Thrillers',\n",
       "       'Comedies, Horror Movies, International Movies',\n",
       "       'Crime TV Shows, Docuseries, TV Mysteries',\n",
       "       'Comedies, International Movies, Sports Movies',\n",
       "       'Classic Movies, Music & Musicals',\n",
       "       'Reality TV, TV Comedies, TV Horror',\n",
       "       'Children & Family Movies, Faith & Spirituality, Music & Musicals',\n",
       "       'International TV Shows, Korean TV Shows, Stand-Up Comedy & Talk Shows',\n",
       "       'Dramas, Music & Musicals',\n",
       "       'Docuseries, Science & Nature TV, TV Action & Adventure',\n",
       "       \"British TV Shows, Kids' TV, TV Dramas\",\n",
       "       'International TV Shows, Korean TV Shows, Romantic TV Shows',\n",
       "       'Horror Movies, Independent Movies',\n",
       "       \"Anime Series, Kids' TV, TV Action & Adventure\",\n",
       "       'Comedies, Dramas, Music & Musicals', 'TV Horror, Teen TV Shows',\n",
       "       'Comedies, LGBTQ Movies, Thrillers',\n",
       "       'Docuseries, Reality TV, Science & Nature TV',\n",
       "       'Crime TV Shows, Spanish-Language TV Shows, TV Action & Adventure',\n",
       "       'Romantic TV Shows, Teen TV Shows', 'TV Comedies, Teen TV Shows',\n",
       "       'Romantic TV Shows, TV Dramas, Teen TV Shows',\n",
       "       'Children & Family Movies, Sci-Fi & Fantasy',\n",
       "       'Romantic TV Shows, TV Action & Adventure, TV Dramas',\n",
       "       'Comedies, International Movies, LGBTQ Movies',\n",
       "       'Dramas, Sci-Fi & Fantasy', \"Kids' TV, TV Thrillers\",\n",
       "       'TV Action & Adventure, TV Comedies, TV Sci-Fi & Fantasy',\n",
       "       'British TV Shows, Romantic TV Shows, TV Dramas',\n",
       "       'Anime Series, International TV Shows, Spanish-Language TV Shows',\n",
       "       'Docuseries, TV Comedies',\n",
       "       'Comedies, Romantic Movies, Sports Movies',\n",
       "       'TV Action & Adventure, TV Comedies, TV Dramas',\n",
       "       'Children & Family Movies, Dramas, Sports Movies',\n",
       "       'Action & Adventure, Dramas, Independent Movies',\n",
       "       'Spanish-Language TV Shows, TV Dramas', 'Dramas, LGBTQ Movies',\n",
       "       'TV Horror, TV Mysteries, TV Sci-Fi & Fantasy',\n",
       "       'Action & Adventure, Dramas, Faith & Spirituality',\n",
       "       'International TV Shows, TV Mysteries, TV Thrillers',\n",
       "       'British TV Shows, Classic & Cult TV, International TV Shows',\n",
       "       'Action & Adventure, Comedies, Independent Movies',\n",
       "       'Music & Musicals', \"British TV Shows, Kids' TV, TV Comedies\",\n",
       "       'Docuseries, Spanish-Language TV Shows',\n",
       "       'Dramas, Independent Movies, Sports Movies',\n",
       "       'TV Dramas, TV Mysteries, TV Thrillers',\n",
       "       'Comedies, LGBTQ Movies, Music & Musicals',\n",
       "       'International TV Shows, TV Action & Adventure, TV Mysteries',\n",
       "       \"Kids' TV, TV Comedies, Teen TV Shows\",\n",
       "       'International TV Shows, TV Dramas, TV Horror',\n",
       "       'Comedies, International Movies, Thrillers',\n",
       "       'Classic & Cult TV, TV Action & Adventure, TV Sci-Fi & Fantasy',\n",
       "       'International TV Shows, TV Horror, TV Mysteries',\n",
       "       'Children & Family Movies, Documentaries',\n",
       "       'Music & Musicals, Romantic Movies', 'Romantic Movies',\n",
       "       'Children & Family Movies, Classic Movies, Comedies',\n",
       "       'TV Action & Adventure, TV Dramas',\n",
       "       'Dramas, LGBTQ Movies, Romantic Movies',\n",
       "       'Children & Family Movies, Comedies, Romantic Movies',\n",
       "       'Comedies, Sports Movies', 'International Movies',\n",
       "       'International TV Shows, Romantic TV Shows, TV Mysteries',\n",
       "       'Stand-Up Comedy & Talk Shows',\n",
       "       'Action & Adventure, International Movies, Romantic Movies',\n",
       "       'Reality TV, TV Comedies',\n",
       "       'Cult Movies, Dramas, International Movies', \"Kids' TV, TV Dramas\",\n",
       "       'Crime TV Shows, International TV Shows, TV Mysteries',\n",
       "       'Action & Adventure, Sci-Fi & Fantasy, Sports Movies',\n",
       "       'TV Dramas, TV Sci-Fi & Fantasy, TV Thrillers',\n",
       "       'Romantic TV Shows, TV Dramas, TV Sci-Fi & Fantasy',\n",
       "       'Docuseries, TV Sci-Fi & Fantasy',\n",
       "       'Anime Features, International Movies',\n",
       "       \"British TV Shows, Classic & Cult TV, Kids' TV\",\n",
       "       'British TV Shows, Reality TV, Romantic TV Shows',\n",
       "       'Documentaries, Faith & Spirituality, International Movies',\n",
       "       \"Kids' TV, Reality TV, TV Dramas\", 'LGBTQ Movies, Thrillers',\n",
       "       'TV Action & Adventure, TV Mysteries, TV Sci-Fi & Fantasy',\n",
       "       'Reality TV, Science & Nature TV',\n",
       "       \"Kids' TV, TV Action & Adventure, TV Comedies\",\n",
       "       'International TV Shows, Romantic TV Shows, TV Action & Adventure',\n",
       "       'Children & Family Movies, Dramas, Independent Movies',\n",
       "       'Comedies, Music & Musicals, Romantic Movies',\n",
       "       'International TV Shows, Korean TV Shows, Reality TV',\n",
       "       'Classic & Cult TV, TV Dramas, TV Sci-Fi & Fantasy',\n",
       "       'Anime Features, Children & Family Movies',\n",
       "       'Action & Adventure, International Movies, Sci-Fi & Fantasy',\n",
       "       'Crime TV Shows, TV Action & Adventure, TV Dramas',\n",
       "       'Classic & Cult TV, TV Action & Adventure, TV Horror',\n",
       "       'International TV Shows, Korean TV Shows, TV Dramas',\n",
       "       'International TV Shows, TV Action & Adventure, TV Horror',\n",
       "       'Action & Adventure, Comedies, Romantic Movies',\n",
       "       'International TV Shows, Korean TV Shows, TV Action & Adventure',\n",
       "       \"Classic & Cult TV, Kids' TV, TV Action & Adventure\",\n",
       "       'Anime Series, International TV Shows, TV Horror',\n",
       "       'International TV Shows, Korean TV Shows, TV Horror',\n",
       "       'Children & Family Movies, Comedies, International Movies',\n",
       "       'International Movies, Sci-Fi & Fantasy',\n",
       "       'International Movies, Sci-Fi & Fantasy, Thrillers',\n",
       "       'Children & Family Movies, Dramas, Romantic Movies',\n",
       "       'Anime Series, Romantic TV Shows',\n",
       "       'Comedies, Dramas, LGBTQ Movies',\n",
       "       'British TV Shows, International TV Shows, TV Action & Adventure',\n",
       "       'Docuseries, Science & Nature TV, TV Comedies',\n",
       "       'International TV Shows, Stand-Up Comedy & Talk Shows, TV Comedies',\n",
       "       'Children & Family Movies, Dramas, Music & Musicals',\n",
       "       'Action & Adventure, Independent Movies, International Movies',\n",
       "       'Action & Adventure, Children & Family Movies, Sci-Fi & Fantasy',\n",
       "       'Horror Movies, Independent Movies, Sci-Fi & Fantasy',\n",
       "       'TV Dramas, TV Sci-Fi & Fantasy, Teen TV Shows',\n",
       "       'Anime Features, International Movies, Sci-Fi & Fantasy',\n",
       "       'Dramas, Independent Movies, Music & Musicals',\n",
       "       \"Kids' TV, TV Comedies, TV Dramas\",\n",
       "       'Children & Family Movies, Documentaries, Sports Movies',\n",
       "       'Independent Movies, Sci-Fi & Fantasy, Thrillers',\n",
       "       'Anime Features, Music & Musicals, Sci-Fi & Fantasy',\n",
       "       'TV Comedies, TV Dramas, TV Sci-Fi & Fantasy',\n",
       "       'Crime TV Shows, TV Action & Adventure',\n",
       "       'Comedies, Faith & Spirituality, Romantic Movies',\n",
       "       \"Kids' TV, TV Action & Adventure\",\n",
       "       'Action & Adventure, Independent Movies',\n",
       "       'International TV Shows, Reality TV, TV Comedies',\n",
       "       'Docuseries, Reality TV, Teen TV Shows',\n",
       "       'Crime TV Shows, International TV Shows, Reality TV',\n",
       "       'Anime Series, Teen TV Shows',\n",
       "       'Crime TV Shows, Romantic TV Shows, TV Dramas',\n",
       "       'Anime Features, Romantic Movies',\n",
       "       'Horror Movies, Sci-Fi & Fantasy, Thrillers',\n",
       "       'International TV Shows, TV Comedies, TV Sci-Fi & Fantasy',\n",
       "       'International TV Shows, Romantic TV Shows',\n",
       "       'Anime Features, Music & Musicals',\n",
       "       'Anime Features, International Movies, Romantic Movies',\n",
       "       'International TV Shows, Romantic TV Shows, Teen TV Shows',\n",
       "       'Docuseries, Stand-Up Comedy & Talk Shows',\n",
       "       'Horror Movies, Independent Movies, Thrillers',\n",
       "       'TV Action & Adventure, TV Comedies, TV Horror',\n",
       "       'Documentaries, Stand-Up Comedy',\n",
       "       \"Kids' TV, Spanish-Language TV Shows\",\n",
       "       \"British TV Shows, Kids' TV, TV Thrillers\",\n",
       "       \"Kids' TV, TV Action & Adventure, TV Dramas\",\n",
       "       'Anime Series, Crime TV Shows',\n",
       "       'Dramas, Sci-Fi & Fantasy, Thrillers',\n",
       "       'TV Comedies, TV Dramas, TV Horror',\n",
       "       'Children & Family Movies, Comedies, LGBTQ Movies',\n",
       "       'International TV Shows, TV Action & Adventure, TV Sci-Fi & Fantasy',\n",
       "       'Docuseries, TV Dramas',\n",
       "       'Horror Movies, International Movies, Romantic Movies',\n",
       "       'Crime TV Shows, Docuseries, Science & Nature TV',\n",
       "       'International Movies, Music & Musicals, Thrillers',\n",
       "       \"Kids' TV, Spanish-Language TV Shows, Teen TV Shows\",\n",
       "       'Comedies, Horror Movies, Independent Movies',\n",
       "       'Action & Adventure, International Movies, Sports Movies',\n",
       "       'Action & Adventure, Independent Movies, Sci-Fi & Fantasy',\n",
       "       'Horror Movies, LGBTQ Movies, Music & Musicals',\n",
       "       'Comedies, Music & Musicals, Sports Movies',\n",
       "       'TV Horror, TV Mysteries, Teen TV Shows',\n",
       "       'Romantic TV Shows, TV Comedies',\n",
       "       \"Kids' TV, Reality TV, Science & Nature TV\",\n",
       "       'International Movies, Romantic Movies, Sci-Fi & Fantasy',\n",
       "       'TV Comedies, TV Horror, TV Thrillers', 'TV Action & Adventure',\n",
       "       'International TV Shows, Spanish-Language TV Shows, TV Horror',\n",
       "       'Crime TV Shows, TV Action & Adventure, TV Thrillers',\n",
       "       'Music & Musicals, Stand-Up Comedy',\n",
       "       'British TV Shows, TV Comedies',\n",
       "       'TV Comedies, TV Sci-Fi & Fantasy, Teen TV Shows',\n",
       "       'TV Comedies, TV Sci-Fi & Fantasy',\n",
       "       'Romantic TV Shows, Spanish-Language TV Shows, TV Comedies',\n",
       "       'Crime TV Shows, International TV Shows, TV Sci-Fi & Fantasy',\n",
       "       'British TV Shows, International TV Shows, Romantic TV Shows',\n",
       "       \"Crime TV Shows, Kids' TV\",\n",
       "       'Horror Movies, International Movies, Sci-Fi & Fantasy',\n",
       "       'TV Comedies, TV Mysteries',\n",
       "       'Cult Movies, Horror Movies, Independent Movies',\n",
       "       'British TV Shows, Docuseries, TV Comedies',\n",
       "       'Comedies, Documentaries',\n",
       "       'Reality TV, Science & Nature TV, TV Action & Adventure',\n",
       "       'TV Comedies, TV Dramas, TV Mysteries',\n",
       "       'Crime TV Shows, TV Comedies, Teen TV Shows',\n",
       "       \"Docuseries, Kids' TV, Science & Nature TV\",\n",
       "       'Reality TV, Spanish-Language TV Shows',\n",
       "       'Action & Adventure, Anime Features, Sci-Fi & Fantasy',\n",
       "       \"Crime TV Shows, Kids' TV, TV Comedies\",\n",
       "       'Dramas, Faith & Spirituality, Independent Movies',\n",
       "       'Documentaries, Faith & Spirituality',\n",
       "       'British TV Shows, International TV Shows, Stand-Up Comedy & Talk Shows',\n",
       "       'Comedies, Dramas, Faith & Spirituality',\n",
       "       'Classic & Cult TV, TV Comedies',\n",
       "       'Dramas, Romantic Movies, Sports Movies',\n",
       "       'Stand-Up Comedy & Talk Shows, TV Mysteries, TV Sci-Fi & Fantasy',\n",
       "       'TV Sci-Fi & Fantasy, TV Thrillers',\n",
       "       'Comedies, Independent Movies, Music & Musicals',\n",
       "       'Comedies, Cult Movies, Independent Movies',\n",
       "       'Documentaries, Dramas, International Movies',\n",
       "       'British TV Shows, TV Horror, TV Thrillers',\n",
       "       'British TV Shows, Docuseries, Science & Nature TV',\n",
       "       'Children & Family Movies, Comedies, Cult Movies', 'Sports Movies',\n",
       "       'Sci-Fi & Fantasy', 'Comedies, LGBTQ Movies',\n",
       "       'Comedies, Independent Movies, Thrillers',\n",
       "       'Classic Movies, Cult Movies, Dramas',\n",
       "       'Action & Adventure, Children & Family Movies, Independent Movies',\n",
       "       'Action & Adventure, Documentaries, International Movies',\n",
       "       'Children & Family Movies, Independent Movies',\n",
       "       'Comedies, Cult Movies, Dramas',\n",
       "       'International TV Shows, TV Horror, TV Thrillers',\n",
       "       'Classic Movies, Thrillers',\n",
       "       'Crime TV Shows, TV Dramas, TV Horror',\n",
       "       'British TV Shows, Docuseries, Reality TV',\n",
       "       'Documentaries, LGBTQ Movies, Music & Musicals',\n",
       "       'Classic Movies, Dramas, Romantic Movies',\n",
       "       'Crime TV Shows, Romantic TV Shows, Spanish-Language TV Shows',\n",
       "       'Classic Movies, Cult Movies, Horror Movies',\n",
       "       'Anime Series, Crime TV Shows, TV Thrillers',\n",
       "       'Children & Family Movies, Classic Movies',\n",
       "       'Classic Movies, Comedies, International Movies',\n",
       "       'Comedies, Sci-Fi & Fantasy',\n",
       "       'Action & Adventure, Cult Movies, Dramas',\n",
       "       'Documentaries, Faith & Spirituality, Music & Musicals',\n",
       "       'British TV Shows, Classic & Cult TV, TV Comedies',\n",
       "       'International Movies, Sports Movies', 'International TV Shows',\n",
       "       \"Classic & Cult TV, Kids' TV, Spanish-Language TV Shows\",\n",
       "       'Romantic TV Shows, Spanish-Language TV Shows, TV Dramas',\n",
       "       'Children & Family Movies, Comedies, Faith & Spirituality',\n",
       "       'British TV Shows, Crime TV Shows, TV Dramas',\n",
       "       'Classic Movies, Dramas, Music & Musicals',\n",
       "       'Cult Movies, Horror Movies, Thrillers',\n",
       "       'Action & Adventure, Classic Movies, Sci-Fi & Fantasy',\n",
       "       'TV Action & Adventure, TV Comedies',\n",
       "       'Classic Movies, Comedies, Music & Musicals', 'Independent Movies',\n",
       "       'Documentaries, Horror Movies',\n",
       "       'Classic & Cult TV, TV Horror, TV Mysteries',\n",
       "       'Comedies, Faith & Spirituality, International Movies',\n",
       "       'Dramas, Horror Movies, Sci-Fi & Fantasy',\n",
       "       'British TV Shows, TV Dramas, TV Sci-Fi & Fantasy',\n",
       "       'Comedies, Cult Movies, Horror Movies',\n",
       "       'Comedies, Cult Movies, Sports Movies',\n",
       "       'Classic Movies, Documentaries',\n",
       "       'Action & Adventure, Faith & Spirituality, Sci-Fi & Fantasy',\n",
       "       'Action & Adventure, Children & Family Movies',\n",
       "       'International TV Shows, Reality TV, TV Action & Adventure',\n",
       "       'Docuseries, Science & Nature TV, TV Dramas', 'Anime Features',\n",
       "       'Action & Adventure, Horror Movies, Independent Movies',\n",
       "       'Action & Adventure, Classic Movies, International Movies',\n",
       "       'Cult Movies, Independent Movies, Thrillers',\n",
       "       'Crime TV Shows, TV Comedies',\n",
       "       'Classic Movies, Cult Movies, Documentaries',\n",
       "       \"Classic & Cult TV, Kids' TV, TV Comedies\",\n",
       "       'Classic Movies, Dramas, LGBTQ Movies',\n",
       "       'Classic Movies, Dramas, Sports Movies',\n",
       "       'Action & Adventure, Cult Movies',\n",
       "       'Action & Adventure, Comedies, Music & Musicals',\n",
       "       'Classic Movies, Horror Movies, Thrillers',\n",
       "       'Classic Movies, Comedies, Independent Movies',\n",
       "       'Children & Family Movies, Classic Movies, Dramas',\n",
       "       'Dramas, Faith & Spirituality, Sports Movies',\n",
       "       'Classic Movies, Comedies, Romantic Movies',\n",
       "       'Dramas, Horror Movies, Music & Musicals',\n",
       "       'Classic Movies, Independent Movies, Thrillers',\n",
       "       'Children & Family Movies, Faith & Spirituality',\n",
       "       'Classic Movies, Comedies, Sports Movies',\n",
       "       'Comedies, Dramas, Sports Movies',\n",
       "       'Action & Adventure, Romantic Movies, Sci-Fi & Fantasy',\n",
       "       'Classic & Cult TV, TV Sci-Fi & Fantasy',\n",
       "       'Comedies, Cult Movies, LGBTQ Movies',\n",
       "       'Comedies, Horror Movies, Sci-Fi & Fantasy',\n",
       "       'Action & Adventure, Comedies, Horror Movies',\n",
       "       'Classic & Cult TV, Crime TV Shows, TV Dramas',\n",
       "       'Action & Adventure, Documentaries, Sports Movies',\n",
       "       'International Movies, LGBTQ Movies, Romantic Movies',\n",
       "       'Cult Movies, Dramas, Thrillers'], dtype=object)"
      ]
     },
     "execution_count": 181,
     "metadata": {},
     "output_type": "execute_result"
    }
   ],
   "source": [
    "df[\"listed_in\"].unique()"
   ]
  },
  {
   "cell_type": "markdown",
   "id": "20d6fabb-24ab-4473-a04b-41069ec3c3be",
   "metadata": {},
   "source": [
    "<blockquote>We will have to convert the values into a list and explode them in order to obtain the counts </blockquote>"
   ]
  },
  {
   "cell_type": "code",
   "execution_count": null,
   "id": "8cc12f96-2626-407b-a376-17257c33a662",
   "metadata": {},
   "outputs": [
    {
     "name": "stdout",
     "output_type": "stream",
     "text": [
      "listed_in\n",
      "TV Shows                          16\n",
      "Classic & Cult TV                 26\n",
      "Stand-Up Comedy & Talk Shows      56\n",
      "TV Thrillers                      57\n",
      "Movies                            57\n",
      "Faith & Spirituality              65\n",
      "Teen TV Shows                     69\n",
      "Cult Movies                       71\n",
      "Anime Features                    71\n",
      "TV Horror                         75\n",
      "TV Sci-Fi & Fantasy               83\n",
      "Science & Nature TV               92\n",
      "TV Mysteries                      98\n",
      "LGBTQ Movies                     102\n",
      "Classic Movies                   116\n",
      "Korean TV Shows                  151\n",
      "TV Action & Adventure            167\n",
      "Spanish-Language TV Shows        173\n",
      "Anime Series                     175\n",
      "Sports Movies                    219\n",
      "Sci-Fi & Fantasy                 243\n",
      "British TV Shows                 252\n",
      "Reality TV                       255\n",
      "Stand-Up Comedy                  343\n",
      "Horror Movies                    357\n",
      "Romantic TV Shows                370\n",
      "Music & Musicals                 375\n",
      "Docuseries                       394\n",
      "Kids' TV                         449\n",
      "Crime TV Shows                   469\n",
      "TV Comedies                      574\n",
      "Thrillers                        577\n",
      "Romantic Movies                  616\n",
      "Children & Family Movies         641\n",
      "Independent Movies               756\n",
      "TV Dramas                        762\n",
      "Action & Adventure               859\n",
      "Documentaries                    868\n",
      "International TV Shows          1350\n",
      "Comedies                        1674\n",
      "Dramas                          2427\n",
      "International Movies            2752\n",
      "Name: count, dtype: int64\n"
     ]
    }
   ],
   "source": [
    "# Split the listed_in column into lists\n",
    "genres_series = df[\"listed_in\"].str.split(', ')\n",
    "\n",
    "# Explode the list so each genre gets its own row\n",
    "exploded_genres = genres_series.explode()\n",
    "\n",
    "# Count the frequency of each genre\n",
    "genre_counts = exploded_genres.value_counts().sort_values(ascending=True)\n",
    "\n",
    "print(genre_counts)"
   ]
  },
  {
   "cell_type": "markdown",
   "id": "46ba39a2-880d-4d95-aefa-544c7c4163f7",
   "metadata": {},
   "source": [
    "## Data Visualization"
   ]
  },
  {
   "cell_type": "markdown",
   "id": "c39bdc23-a4fe-408f-a857-9208e1a93d16",
   "metadata": {},
   "source": [
    "#### Top 10 Content Producing Countries"
   ]
  },
  {
   "cell_type": "code",
   "execution_count": 183,
   "id": "d620dc53-69e2-432d-b91a-af6cab0ba8fb",
   "metadata": {},
   "outputs": [
    {
     "data": {
      "image/png": "[encoded data removed]",
      "text/plain": [
       "<Figure size 1600x900 with 1 Axes>"
      ]
     },
     "metadata": {},
     "output_type": "display_data"
    }
   ],
   "source": [
    "# Chart Size\n",
    "plt.figure(figsize=(16, 9))\n",
    "\n",
    "# Filter Unknown countries\n",
    "df_filtered = df[df[\"country\"] != \"Unknown\"]\n",
    "\n",
    "# Bar Chart\n",
    "bar = df_filtered[\"country\"].value_counts().head(10).sort_values(ascending=True).plot(kind=\"barh\", color=\"#E50914\", edgecolor=\"black\")\n",
    "\n",
    "# Titles and labels\n",
    "plt.title(\"Top 10 Content Producing Countries\", fontsize=16, fontweight=\"bold\", pad=15)\n",
    "plt.xlabel(\"Country\", fontsize=14, labelpad=10)\n",
    "plt.ylabel(\"Count\", fontsize=14, labelpad=10)\n",
    "\n",
    "# Angled ticks\n",
    "plt.xticks(rotation=45)\n",
    "\n",
    "# Gridlines\n",
    "plt.grid(axis=\"y\", linestyle=\"--\", alpha=0.5)\n",
    "\n",
    "# Add count labels on top of bars\n",
    "for p in bar.patches:\n",
    "    bar.annotate(\n",
    "        f\"{p.get_width()}\", \n",
    "        (p.get_width(), p.get_y() + p.get_height() / 2), \n",
    "        ha=\"left\", va=\"center\", fontsize=12, fontweight=\"normal\",\n",
    "        xytext=(5, 0), textcoords='offset points'  # Offset text by 5 points to the right\n",
    "    )\n",
    "\n",
    "# Remove top and right spines\n",
    "sns.despine()\n",
    "\n",
    "# Show plot\n",
    "plt.show()"
   ]
  },
  {
   "cell_type": "markdown",
   "id": "0616fef7-63be-4088-9182-70987bb88b82",
   "metadata": {},
   "source": [
    "#### Year Release Distribution"
   ]
  },
  {
   "cell_type": "code",
   "execution_count": 184,
   "id": "2afbce7f-d877-453a-90b9-b3e857254a3f",
   "metadata": {},
   "outputs": [
    {
     "data": {
      "image/png": "[encoded data removed]",
      "text/plain": [
       "<Figure size 1600x900 with 1 Axes>"
      ]
     },
     "metadata": {},
     "output_type": "display_data"
    }
   ],
   "source": [
    "# Chart Size\n",
    "plt.figure(figsize=(16, 9))\n",
    "\n",
    "# Barchart\n",
    "bar = df[\"release_year\"].value_counts().sort_index().plot(\n",
    "    kind=\"bar\", color=\"#E50914\", edgecolor=\"black\",\n",
    ")\n",
    "\n",
    "# Titles and labels\n",
    "plt.title(\"Year Release Distribution\", fontsize=16, fontweight=\"bold\", pad=15)\n",
    "plt.xlabel(\"Year Released\", fontsize=14, labelpad=10)\n",
    "plt.ylabel(\"Count\", fontsize=14, labelpad=10)\n",
    "\n",
    "# Gridlines\n",
    "plt.grid(axis=\"y\", linestyle=\"--\", alpha=0.5)\n",
    "\n",
    "# Add count labels on top of bars\n",
    "for p in bar.patches:\n",
    "    bar.annotate(\n",
    "        f\"{p.get_height()}\", \n",
    "        (p.get_x() + p.get_width() / 2, p.get_height()), \n",
    "        ha=\"center\", va=\"bottom\", fontsize=9, fontweight=\"normal\", \n",
    "    )\n",
    "\n",
    "# Remove top and right spines\n",
    "sns.despine()\n",
    "\n",
    "# Show plot\n",
    "plt.show()"
   ]
  },
  {
   "cell_type": "code",
   "execution_count": 185,
   "id": "fe7318b8-a827-458d-bc3f-3db9214a44fd",
   "metadata": {},
   "outputs": [
    {
     "data": {
      "image/png": "[encoded data removed]",
      "text/plain": [
       "<Figure size 1600x900 with 1 Axes>"
      ]
     },
     "metadata": {},
     "output_type": "display_data"
    }
   ],
   "source": [
    "# Chart Size\n",
    "plt.figure(figsize=(16, 9))\n",
    "\n",
    "# Bar Chart\n",
    "bar = df[\"type\"].value_counts().sort_values(ascending=True).plot(kind=\"bar\", color=[\"black\", \"#E50914\"])\n",
    "\n",
    "# Titles and labels\n",
    "plt.title(\"Movies vs TV Shows\", fontsize=16, fontweight=\"bold\", pad=15)\n",
    "plt.xlabel(\"Type\", fontsize=14, labelpad=10)\n",
    "plt.ylabel(\"Count\", fontsize=14, labelpad=10)\n",
    "\n",
    "# Horizontal ticks\n",
    "plt.xticks(rotation=0)\n",
    "\n",
    "# Gridlines\n",
    "plt.grid(axis=\"y\", linestyle=\"--\", alpha=0.5)\n",
    "\n",
    "# Add count labels on top of bars\n",
    "for p in bar.patches:\n",
    "    bar.annotate(\n",
    "        f\"{p.get_height()}\", \n",
    "        (p.get_x() + p.get_width() / 2, p.get_height()), \n",
    "        ha=\"center\", va=\"bottom\", fontsize=12, fontweight=\"normal\", \n",
    "    )\n",
    "\n",
    "# Remove top and right spines\n",
    "sns.despine()\n",
    "\n",
    "# Show plot\n",
    "plt.show()"
   ]
  },
  {
   "cell_type": "markdown",
   "id": "76ef5575-d9b5-4bcb-be5a-3d32b7449347",
   "metadata": {},
   "source": [
    "## Content Ratings Distribution"
   ]
  },
  {
   "cell_type": "code",
   "execution_count": 186,
   "id": "27772140-708f-42b3-824f-caec417b82ed",
   "metadata": {},
   "outputs": [
    {
     "data": {
      "image/png": "[encoded data removed]",
      "text/plain": [
       "<Figure size 1600x900 with 1 Axes>"
      ]
     },
     "metadata": {},
     "output_type": "display_data"
    }
   ],
   "source": [
    "# Chart Size\n",
    "plt.figure(figsize=(16, 9))\n",
    "\n",
    "# Filter Unkown Values\n",
    "filtered_df = df[df[\"rating\"] != \"Unknown\"]\n",
    "\n",
    "# Bar Chart\n",
    "bar = filtered_df[\"rating\"].value_counts().sort_values(ascending=True).plot(kind=\"bar\",  color=\"#E50914\", edgecolor=\"black\")\n",
    "\n",
    "# Titles and labels\n",
    "plt.title(\"Content Ratings Distribution\", fontsize=16, fontweight=\"bold\", pad=15)\n",
    "plt.xlabel(\"Rating\", fontsize=14, labelpad=10)\n",
    "plt.ylabel(\"Count\", fontsize=14, labelpad=10)\n",
    "\n",
    "# Angled ticks\n",
    "plt.xticks(rotation=45)\n",
    "\n",
    "# Gridlines\n",
    "plt.grid(axis=\"y\", linestyle=\"--\", alpha=0.5)\n",
    "\n",
    "# Add count labels on top of bars\n",
    "for p in bar.patches:\n",
    "    bar.annotate(\n",
    "        f\"{p.get_height()}\", \n",
    "        (p.get_x() + p.get_width() / 2, p.get_height()), \n",
    "        ha=\"center\", va=\"bottom\", fontsize=12, fontweight=\"normal\", \n",
    "    )\n",
    "    \n",
    "# Remove top and right spines\n",
    "sns.despine()\n",
    "\n",
    "# Show plot\n",
    "plt.show()"
   ]
  },
  {
   "cell_type": "markdown",
   "id": "852e92df",
   "metadata": {},
   "source": [
    "## TV-MA Ratings Count by Country choropleth map"
   ]
  },
  {
   "cell_type": "code",
   "execution_count": null,
   "id": "63227668",
   "metadata": {},
   "outputs": [
    {
     "name": "stdout",
     "output_type": "stream",
     "text": [
      "['', 'Afghanistan', 'Albania', 'Algeria', 'Angola', 'Argentina', 'Armenia', 'Australia', 'Austria', 'Bangladesh', 'Belgium', 'Brazil', 'Bulgaria', 'Burkina Faso', 'Cambodia', 'Cameroon', 'Canada', 'Chile', 'China', 'Colombia', 'Croatia', 'Cuba', 'Czech Republic', 'Denmark', 'Egypt', 'Ethiopia', 'Finland', 'France', 'Germany', 'Ghana', 'Greece', 'Guatemala', 'Hong Kong', 'Hungary', 'Iceland', 'India', 'Indonesia', 'Iraq', 'Ireland', 'Israel', 'Italy', 'Jamaica', 'Japan', 'Jordan', 'Kenya', 'Kuwait', 'Latvia', 'Lebanon', 'Lithuania', 'Luxembourg', 'Malaysia', 'Malta', 'Mauritius', 'Mexico', 'Mongolia', 'Montenegro', 'Morocco', 'Mozambique', 'Namibia', 'Netherlands', 'New Zealand', 'Nigeria', 'Norway', 'Pakistan', 'Paraguay', 'Peru', 'Philippines', 'Poland', 'Poland,', 'Portugal', 'Puerto Rico', 'Qatar', 'Romania', 'Russia', 'Saudi Arabia', 'Senegal', 'Serbia', 'Singapore', 'Slovakia', 'Slovenia', 'South Africa', 'South Korea', 'Spain', 'Sweden', 'Switzerland', 'Syria', 'Taiwan', 'Thailand', 'Turkey', 'Ukraine', 'United Arab Emirates', 'United Kingdom', 'United Kingdom,', 'United States', 'Unknown', 'Uruguay', 'Venezuela', 'Vietnam', 'West Germany', 'Zimbabwe']\n"
     ]
    }
   ],
   "source": [
    "# Filter the DataFrame to include only rows with 'TV-MA' ratings\n",
    "tv_ma_df = df[df[\"rating\"] == \"TV-MA\"]\n",
    "\n",
    "# Split values, flatten the list, filter out empty strings, and get unique country names for only TV-MA ratings\n",
    "unique_countries = set(country for countries in tv_ma_df[\"country\"].dropna() for country in countries.split(\", \") if country != 'United States,')\n",
    "\n",
    "# Convert to sorted list\n",
    "unique_countries_list = sorted(list(unique_countries))\n",
    "\n",
    "# Display the unique countries with TV-MA counts\n",
    "print(unique_countries_list)"
   ]
  },
  {
   "cell_type": "code",
   "execution_count": null,
   "id": "9b36201e",
   "metadata": {},
   "outputs": [
    {
     "name": "stdout",
     "output_type": "stream",
     "text": [
      "[1, 1, 1, 2, 1, 67, 1, 44, 6, 1, 46, 59, 1, 1, 2, 1, 107, 19, 34, 34, 2, 1, 8, 23, 33, 1, 5, 163, 79, 3, 2, 1, 34, 5, 5, 266, 18, 2, 17, 15, 47, 1, 101, 5, 2, 1, 1, 15, 1, 2, 4, 1, 1, 102, 1, 1, 2, 1, 1, 23, 10, 44, 17, 4, 1, 5, 34, 32, 1, 5, 1, 5, 7, 8, 2, 2, 3, 12, 1, 2, 28, 92, 170, 26, 7, 1, 36, 43, 68, 2, 10, 250, 2, 1102, 276, 9, 1, 3, 3, 1]\n"
     ]
    }
   ],
   "source": [
    "# Exploding the country column so that each country gets its own row\n",
    "exploded_df = df.dropna(subset=[\"country\"]).copy()\n",
    "exploded_df[\"country\"] = exploded_df[\"country\"].str.split(\", \")\n",
    "exploded_df = exploded_df.explode(\"country\").reset_index(drop=True)\n",
    "exploded_df = exploded_df[exploded_df[\"country\"] != 'United States,']\n",
    "\n",
    "# Filter the dataframe to include only TV-MA ratings\n",
    "tv_ma_df = exploded_df[exploded_df[\"rating\"] == \"TV-MA\"]\n",
    "\n",
    "# Count the occurrences of each unique country and its associated TV-MA rating\n",
    "country_rating_counts = tv_ma_df.groupby(\"country\")[\"rating\"].value_counts().reset_index(name=\"count\")\n",
    "\n",
    "# Sort the results by country and count\n",
    "country_rating_counts_sorted = country_rating_counts.sort_values(by=[\"country\", \"count\"], ascending=[True, False])\n",
    "\n",
    "# Display the result\n",
    "country_rating_counts_sorted_list = list(country_rating_counts_sorted[\"count\"])\n",
    "print(country_rating_counts_sorted_list)"
   ]
  },
  {
   "cell_type": "code",
   "execution_count": 197,
   "id": "4ba1cbfe",
   "metadata": {},
   "outputs": [
    {
     "data": {
      "application/vnd.plotly.v1+json": {
       "config": {
        "plotlyServerURL": "https://plot.ly"
       },
       "data": [
        {
         "coloraxis": "coloraxis",
         "geo": "geo",
         "hovertemplate": "<b>%{hovertext}</b><br><br>country=%{location}<br>count=%{z}<extra></extra>",
         "hovertext": [
          "",
          "Afghanistan",
          "Albania",
          "Algeria",
          "Angola",
          "Argentina",
          "Armenia",
          "Australia",
          "Austria",
          "Bangladesh",
          "Belgium",
          "Brazil",
          "Bulgaria",
          "Burkina Faso",
          "Cambodia",
          "Cameroon",
          "Canada",
          "Chile",
          "China",
          "Colombia",
          "Croatia",
          "Cuba",
          "Czech Republic",
          "Denmark",
          "Egypt",
          "Ethiopia",
          "Finland",
          "France",
          "Germany",
          "Ghana",
          "Greece",
          "Guatemala",
          "Hong Kong",
          "Hungary",
          "Iceland",
          "India",
          "Indonesia",
          "Iraq",
          "Ireland",
          "Israel",
          "Italy",
          "Jamaica",
          "Japan",
          "Jordan",
          "Kenya",
          "Kuwait",
          "Latvia",
          "Lebanon",
          "Lithuania",
          "Luxembourg",
          "Malaysia",
          "Malta",
          "Mauritius",
          "Mexico",
          "Mongolia",
          "Montenegro",
          "Morocco",
          "Mozambique",
          "Namibia",
          "Netherlands",
          "New Zealand",
          "Nigeria",
          "Norway",
          "Pakistan",
          "Paraguay",
          "Peru",
          "Philippines",
          "Poland",
          "Poland,",
          "Portugal",
          "Puerto Rico",
          "Qatar",
          "Romania",
          "Russia",
          "Saudi Arabia",
          "Senegal",
          "Serbia",
          "Singapore",
          "Slovakia",
          "Slovenia",
          "South Africa",
          "South Korea",
          "Spain",
          "Sweden",
          "Switzerland",
          "Syria",
          "Taiwan",
          "Thailand",
          "Turkey",
          "Ukraine",
          "United Arab Emirates",
          "United Kingdom",
          "United Kingdom,",
          "United States",
          "Unknown",
          "Uruguay",
          "Venezuela",
          "Vietnam",
          "West Germany",
          "Zimbabwe"
         ],
         "locationmode": "country names",
         "locations": [
          "",
          "Afghanistan",
          "Albania",
          "Algeria",
          "Angola",
          "Argentina",
          "Armenia",
          "Australia",
          "Austria",
          "Bangladesh",
          "Belgium",
          "Brazil",
          "Bulgaria",
          "Burkina Faso",
          "Cambodia",
          "Cameroon",
          "Canada",
          "Chile",
          "China",
          "Colombia",
          "Croatia",
          "Cuba",
          "Czech Republic",
          "Denmark",
          "Egypt",
          "Ethiopia",
          "Finland",
          "France",
          "Germany",
          "Ghana",
          "Greece",
          "Guatemala",
          "Hong Kong",
          "Hungary",
          "Iceland",
          "India",
          "Indonesia",
          "Iraq",
          "Ireland",
          "Israel",
          "Italy",
          "Jamaica",
          "Japan",
          "Jordan",
          "Kenya",
          "Kuwait",
          "Latvia",
          "Lebanon",
          "Lithuania",
          "Luxembourg",
          "Malaysia",
          "Malta",
          "Mauritius",
          "Mexico",
          "Mongolia",
          "Montenegro",
          "Morocco",
          "Mozambique",
          "Namibia",
          "Netherlands",
          "New Zealand",
          "Nigeria",
          "Norway",
          "Pakistan",
          "Paraguay",
          "Peru",
          "Philippines",
          "Poland",
          "Poland,",
          "Portugal",
          "Puerto Rico",
          "Qatar",
          "Romania",
          "Russia",
          "Saudi Arabia",
          "Senegal",
          "Serbia",
          "Singapore",
          "Slovakia",
          "Slovenia",
          "South Africa",
          "South Korea",
          "Spain",
          "Sweden",
          "Switzerland",
          "Syria",
          "Taiwan",
          "Thailand",
          "Turkey",
          "Ukraine",
          "United Arab Emirates",
          "United Kingdom",
          "United Kingdom,",
          "United States",
          "Unknown",
          "Uruguay",
          "Venezuela",
          "Vietnam",
          "West Germany",
          "Zimbabwe"
         ],
         "name": "",
         "type": "choropleth",
         "z": {
          "bdata": "AQABAAEAAgABAEMAAQAsAAYAAQAuADsAAQABAAIAAQBrABMAIgAiAAIAAQAIABcAIQABAAUAowBPAAMAAgABACIABQAFAAoBEgACABEADwAvAAEAZQAFAAIAAQABAA8AAQACAAQAAQABAGYAAQABAAIAAQABABcACgAsABEABAABAAUAIgAgAAEABQABAAUABwAIAAIAAgADAAwAAQACABwAXACqABoABwABACQAKwBEAAIACgD6AAIATgQUAQkAAQADAAMAAQA=",
          "dtype": "i2"
         }
        }
       ],
       "layout": {
        "coloraxis": {
         "colorbar": {
          "title": {
           "text": "count"
          }
         },
         "colorscale": [
          [
           0,
           "rgb(103,0,31)"
          ],
          [
           0.1,
           "rgb(178,24,43)"
          ],
          [
           0.2,
           "rgb(214,96,77)"
          ],
          [
           0.3,
           "rgb(244,165,130)"
          ],
          [
           0.4,
           "rgb(253,219,199)"
          ],
          [
           0.5,
           "rgb(247,247,247)"
          ],
          [
           0.6,
           "rgb(209,229,240)"
          ],
          [
           0.7,
           "rgb(146,197,222)"
          ],
          [
           0.8,
           "rgb(67,147,195)"
          ],
          [
           0.9,
           "rgb(33,102,172)"
          ],
          [
           1,
           "rgb(5,48,97)"
          ]
         ]
        },
        "geo": {
         "center": {},
         "domain": {
          "x": [
           0,
           1
          ],
          "y": [
           0,
           1
          ]
         }
        },
        "legend": {
         "tracegroupgap": 0
        },
        "template": {
         "data": {
          "bar": [
           {
            "error_x": {
             "color": "#2a3f5f"
            },
            "error_y": {
             "color": "#2a3f5f"
            },
            "marker": {
             "line": {
              "color": "#E5ECF6",
              "width": 0.5
             },
             "pattern": {
              "fillmode": "overlay",
              "size": 10,
              "solidity": 0.2
             }
            },
            "type": "bar"
           }
          ],
          "barpolar": [
           {
            "marker": {
             "line": {
              "color": "#E5ECF6",
              "width": 0.5
             },
             "pattern": {
              "fillmode": "overlay",
              "size": 10,
              "solidity": 0.2
             }
            },
            "type": "barpolar"
           }
          ],
          "carpet": [
           {
            "aaxis": {
             "endlinecolor": "#2a3f5f",
             "gridcolor": "white",
             "linecolor": "white",
             "minorgridcolor": "white",
             "startlinecolor": "#2a3f5f"
            },
            "baxis": {
             "endlinecolor": "#2a3f5f",
             "gridcolor": "white",
             "linecolor": "white",
             "minorgridcolor": "white",
             "startlinecolor": "#2a3f5f"
            },
            "type": "carpet"
           }
          ],
          "choropleth": [
           {
            "colorbar": {
             "outlinewidth": 0,
             "ticks": ""
            },
            "type": "choropleth"
           }
          ],
          "contour": [
           {
            "colorbar": {
             "outlinewidth": 0,
             "ticks": ""
            },
            "colorscale": [
             [
              0,
              "#0d0887"
             ],
             [
              0.1111111111111111,
              "#46039f"
             ],
             [
              0.2222222222222222,
              "#7201a8"
             ],
             [
              0.3333333333333333,
              "#9c179e"
             ],
             [
              0.4444444444444444,
              "#bd3786"
             ],
             [
              0.5555555555555556,
              "#d8576b"
             ],
             [
              0.6666666666666666,
              "#ed7953"
             ],
             [
              0.7777777777777778,
              "#fb9f3a"
             ],
             [
              0.8888888888888888,
              "#fdca26"
             ],
             [
              1,
              "#f0f921"
             ]
            ],
            "type": "contour"
           }
          ],
          "contourcarpet": [
           {
            "colorbar": {
             "outlinewidth": 0,
             "ticks": ""
            },
            "type": "contourcarpet"
           }
          ],
          "heatmap": [
           {
            "colorbar": {
             "outlinewidth": 0,
             "ticks": ""
            },
            "colorscale": [
             [
              0,
              "#0d0887"
             ],
             [
              0.1111111111111111,
              "#46039f"
             ],
             [
              0.2222222222222222,
              "#7201a8"
             ],
             [
              0.3333333333333333,
              "#9c179e"
             ],
             [
              0.4444444444444444,
              "#bd3786"
             ],
             [
              0.5555555555555556,
              "#d8576b"
             ],
             [
              0.6666666666666666,
              "#ed7953"
             ],
             [
              0.7777777777777778,
              "#fb9f3a"
             ],
             [
              0.8888888888888888,
              "#fdca26"
             ],
             [
              1,
              "#f0f921"
             ]
            ],
            "type": "heatmap"
           }
          ],
          "histogram": [
           {
            "marker": {
             "pattern": {
              "fillmode": "overlay",
              "size": 10,
              "solidity": 0.2
             }
            },
            "type": "histogram"
           }
          ],
          "histogram2d": [
           {
            "colorbar": {
             "outlinewidth": 0,
             "ticks": ""
            },
            "colorscale": [
             [
              0,
              "#0d0887"
             ],
             [
              0.1111111111111111,
              "#46039f"
             ],
             [
              0.2222222222222222,
              "#7201a8"
             ],
             [
              0.3333333333333333,
              "#9c179e"
             ],
             [
              0.4444444444444444,
              "#bd3786"
             ],
             [
              0.5555555555555556,
              "#d8576b"
             ],
             [
              0.6666666666666666,
              "#ed7953"
             ],
             [
              0.7777777777777778,
              "#fb9f3a"
             ],
             [
              0.8888888888888888,
              "#fdca26"
             ],
             [
              1,
              "#f0f921"
             ]
            ],
            "type": "histogram2d"
           }
          ],
          "histogram2dcontour": [
           {
            "colorbar": {
             "outlinewidth": 0,
             "ticks": ""
            },
            "colorscale": [
             [
              0,
              "#0d0887"
             ],
             [
              0.1111111111111111,
              "#46039f"
             ],
             [
              0.2222222222222222,
              "#7201a8"
             ],
             [
              0.3333333333333333,
              "#9c179e"
             ],
             [
              0.4444444444444444,
              "#bd3786"
             ],
             [
              0.5555555555555556,
              "#d8576b"
             ],
             [
              0.6666666666666666,
              "#ed7953"
             ],
             [
              0.7777777777777778,
              "#fb9f3a"
             ],
             [
              0.8888888888888888,
              "#fdca26"
             ],
             [
              1,
              "#f0f921"
             ]
            ],
            "type": "histogram2dcontour"
           }
          ],
          "mesh3d": [
           {
            "colorbar": {
             "outlinewidth": 0,
             "ticks": ""
            },
            "type": "mesh3d"
           }
          ],
          "parcoords": [
           {
            "line": {
             "colorbar": {
              "outlinewidth": 0,
              "ticks": ""
             }
            },
            "type": "parcoords"
           }
          ],
          "pie": [
           {
            "automargin": true,
            "type": "pie"
           }
          ],
          "scatter": [
           {
            "fillpattern": {
             "fillmode": "overlay",
             "size": 10,
             "solidity": 0.2
            },
            "type": "scatter"
           }
          ],
          "scatter3d": [
           {
            "line": {
             "colorbar": {
              "outlinewidth": 0,
              "ticks": ""
             }
            },
            "marker": {
             "colorbar": {
              "outlinewidth": 0,
              "ticks": ""
             }
            },
            "type": "scatter3d"
           }
          ],
          "scattercarpet": [
           {
            "marker": {
             "colorbar": {
              "outlinewidth": 0,
              "ticks": ""
             }
            },
            "type": "scattercarpet"
           }
          ],
          "scattergeo": [
           {
            "marker": {
             "colorbar": {
              "outlinewidth": 0,
              "ticks": ""
             }
            },
            "type": "scattergeo"
           }
          ],
          "scattergl": [
           {
            "marker": {
             "colorbar": {
              "outlinewidth": 0,
              "ticks": ""
             }
            },
            "type": "scattergl"
           }
          ],
          "scattermap": [
           {
            "marker": {
             "colorbar": {
              "outlinewidth": 0,
              "ticks": ""
             }
            },
            "type": "scattermap"
           }
          ],
          "scattermapbox": [
           {
            "marker": {
             "colorbar": {
              "outlinewidth": 0,
              "ticks": ""
             }
            },
            "type": "scattermapbox"
           }
          ],
          "scatterpolar": [
           {
            "marker": {
             "colorbar": {
              "outlinewidth": 0,
              "ticks": ""
             }
            },
            "type": "scatterpolar"
           }
          ],
          "scatterpolargl": [
           {
            "marker": {
             "colorbar": {
              "outlinewidth": 0,
              "ticks": ""
             }
            },
            "type": "scatterpolargl"
           }
          ],
          "scatterternary": [
           {
            "marker": {
             "colorbar": {
              "outlinewidth": 0,
              "ticks": ""
             }
            },
            "type": "scatterternary"
           }
          ],
          "surface": [
           {
            "colorbar": {
             "outlinewidth": 0,
             "ticks": ""
            },
            "colorscale": [
             [
              0,
              "#0d0887"
             ],
             [
              0.1111111111111111,
              "#46039f"
             ],
             [
              0.2222222222222222,
              "#7201a8"
             ],
             [
              0.3333333333333333,
              "#9c179e"
             ],
             [
              0.4444444444444444,
              "#bd3786"
             ],
             [
              0.5555555555555556,
              "#d8576b"
             ],
             [
              0.6666666666666666,
              "#ed7953"
             ],
             [
              0.7777777777777778,
              "#fb9f3a"
             ],
             [
              0.8888888888888888,
              "#fdca26"
             ],
             [
              1,
              "#f0f921"
             ]
            ],
            "type": "surface"
           }
          ],
          "table": [
           {
            "cells": {
             "fill": {
              "color": "#EBF0F8"
             },
             "line": {
              "color": "white"
             }
            },
            "header": {
             "fill": {
              "color": "#C8D4E3"
             },
             "line": {
              "color": "white"
             }
            },
            "type": "table"
           }
          ]
         },
         "layout": {
          "annotationdefaults": {
           "arrowcolor": "#2a3f5f",
           "arrowhead": 0,
           "arrowwidth": 1
          },
          "autotypenumbers": "strict",
          "coloraxis": {
           "colorbar": {
            "outlinewidth": 0,
            "ticks": ""
           }
          },
          "colorscale": {
           "diverging": [
            [
             0,
             "#8e0152"
            ],
            [
             0.1,
             "#c51b7d"
            ],
            [
             0.2,
             "#de77ae"
            ],
            [
             0.3,
             "#f1b6da"
            ],
            [
             0.4,
             "#fde0ef"
            ],
            [
             0.5,
             "#f7f7f7"
            ],
            [
             0.6,
             "#e6f5d0"
            ],
            [
             0.7,
             "#b8e186"
            ],
            [
             0.8,
             "#7fbc41"
            ],
            [
             0.9,
             "#4d9221"
            ],
            [
             1,
             "#276419"
            ]
           ],
           "sequential": [
            [
             0,
             "#0d0887"
            ],
            [
             0.1111111111111111,
             "#46039f"
            ],
            [
             0.2222222222222222,
             "#7201a8"
            ],
            [
             0.3333333333333333,
             "#9c179e"
            ],
            [
             0.4444444444444444,
             "#bd3786"
            ],
            [
             0.5555555555555556,
             "#d8576b"
            ],
            [
             0.6666666666666666,
             "#ed7953"
            ],
            [
             0.7777777777777778,
             "#fb9f3a"
            ],
            [
             0.8888888888888888,
             "#fdca26"
            ],
            [
             1,
             "#f0f921"
            ]
           ],
           "sequentialminus": [
            [
             0,
             "#0d0887"
            ],
            [
             0.1111111111111111,
             "#46039f"
            ],
            [
             0.2222222222222222,
             "#7201a8"
            ],
            [
             0.3333333333333333,
             "#9c179e"
            ],
            [
             0.4444444444444444,
             "#bd3786"
            ],
            [
             0.5555555555555556,
             "#d8576b"
            ],
            [
             0.6666666666666666,
             "#ed7953"
            ],
            [
             0.7777777777777778,
             "#fb9f3a"
            ],
            [
             0.8888888888888888,
             "#fdca26"
            ],
            [
             1,
             "#f0f921"
            ]
           ]
          },
          "colorway": [
           "#636efa",
           "#EF553B",
           "#00cc96",
           "#ab63fa",
           "#FFA15A",
           "#19d3f3",
           "#FF6692",
           "#B6E880",
           "#FF97FF",
           "#FECB52"
          ],
          "font": {
           "color": "#2a3f5f"
          },
          "geo": {
           "bgcolor": "white",
           "lakecolor": "white",
           "landcolor": "#E5ECF6",
           "showlakes": true,
           "showland": true,
           "subunitcolor": "white"
          },
          "hoverlabel": {
           "align": "left"
          },
          "hovermode": "closest",
          "mapbox": {
           "style": "light"
          },
          "paper_bgcolor": "white",
          "plot_bgcolor": "#E5ECF6",
          "polar": {
           "angularaxis": {
            "gridcolor": "white",
            "linecolor": "white",
            "ticks": ""
           },
           "bgcolor": "#E5ECF6",
           "radialaxis": {
            "gridcolor": "white",
            "linecolor": "white",
            "ticks": ""
           }
          },
          "scene": {
           "xaxis": {
            "backgroundcolor": "#E5ECF6",
            "gridcolor": "white",
            "gridwidth": 2,
            "linecolor": "white",
            "showbackground": true,
            "ticks": "",
            "zerolinecolor": "white"
           },
           "yaxis": {
            "backgroundcolor": "#E5ECF6",
            "gridcolor": "white",
            "gridwidth": 2,
            "linecolor": "white",
            "showbackground": true,
            "ticks": "",
            "zerolinecolor": "white"
           },
           "zaxis": {
            "backgroundcolor": "#E5ECF6",
            "gridcolor": "white",
            "gridwidth": 2,
            "linecolor": "white",
            "showbackground": true,
            "ticks": "",
            "zerolinecolor": "white"
           }
          },
          "shapedefaults": {
           "line": {
            "color": "#2a3f5f"
           }
          },
          "ternary": {
           "aaxis": {
            "gridcolor": "white",
            "linecolor": "white",
            "ticks": ""
           },
           "baxis": {
            "gridcolor": "white",
            "linecolor": "white",
            "ticks": ""
           },
           "bgcolor": "#E5ECF6",
           "caxis": {
            "gridcolor": "white",
            "linecolor": "white",
            "ticks": ""
           }
          },
          "title": {
           "x": 0.05
          },
          "xaxis": {
           "automargin": true,
           "gridcolor": "white",
           "linecolor": "white",
           "ticks": "",
           "title": {
            "standoff": 15
           },
           "zerolinecolor": "white",
           "zerolinewidth": 2
          },
          "yaxis": {
           "automargin": true,
           "gridcolor": "white",
           "linecolor": "white",
           "ticks": "",
           "title": {
            "standoff": 15
           },
           "zerolinecolor": "white",
           "zerolinewidth": 2
          }
         }
        },
        "title": {
         "text": "TV-MA Ratings Count by Country"
        }
       }
      }
     },
     "metadata": {},
     "output_type": "display_data"
    }
   ],
   "source": [
    "# Country-Count DataFrame\n",
    "df_map = pd.DataFrame({\n",
    "    \"country\": unique_countries_list,\n",
    "    \"count\": country_rating_counts_sorted_list\n",
    "})\n",
    "\n",
    "# Choropleth map\n",
    "fig = px.choropleth(\n",
    "    df_map,\n",
    "    locations=\"country\",\n",
    "    locationmode=\"country names\",\n",
    "    color=\"count\",\n",
    "    hover_name=\"country\",\n",
    "    color_continuous_scale=\"RdBu\",\n",
    "    title=\"TV-MA Ratings Count by Country\"\n",
    ")\n",
    "\n",
    "fig.show()"
   ]
  },
  {
   "cell_type": "markdown",
   "id": "28486f6b-5f80-450e-b2c6-c2e9dd4cb3e5",
   "metadata": {},
   "source": [
    "## Top 10 Tagged Genres Distribution"
   ]
  },
  {
   "cell_type": "code",
   "execution_count": 187,
   "id": "c3be6720-3962-4849-8160-a371a9a7ed93",
   "metadata": {},
   "outputs": [
    {
     "data": {
      "image/png": "[encoded data removed]",
      "text/plain": [
       "<Figure size 1000x1000 with 1 Axes>"
      ]
     },
     "metadata": {},
     "output_type": "display_data"
    }
   ],
   "source": [
    "# Top 10 genres tagged\n",
    "top_genres = genre_counts.head(10)\n",
    "\n",
    "# Red shades\n",
    "red_shades = ['#FF9999', '#FF6666', '#FF4C4C', '#FF3333', '#FF1A1A',\n",
    "              '#FF0000', '#E60000', '#CC0000', '#B20000', '#990000']\n",
    "\n",
    "# Chart Size\n",
    "plt.figure(figsize=(10, 10))\n",
    "\n",
    "# Pie Chart\n",
    "top_genres.plot(kind='pie', autopct='%1.1f%%', startangle=140, shadow=True, colors=red_shades, ylabel=\"\", wedgeprops={'edgecolor': 'black', 'linewidth': 4}, textprops={'weight': 'medium'} )\n",
    "\n",
    "# Title\n",
    "plt.title('Top 10 Tagged Genres Distribution')\n",
    "\n",
    "# Show plot\n",
    "plt.show()"
   ]
  },
  {
   "cell_type": "markdown",
   "id": "8e3572b7-38d4-4039-bcbd-b6f4eb7c1848",
   "metadata": {},
   "source": [
    "## Number of Titles Added Per Month"
   ]
  },
  {
   "cell_type": "code",
   "execution_count": 188,
   "id": "463a7ad1-fc8e-4c3a-b0b8-6713c17dfb32",
   "metadata": {},
   "outputs": [
    {
     "data": {
      "image/png": "[encoded data removed]",
      "text/plain": [
       "<Figure size 1600x900 with 1 Axes>"
      ]
     },
     "metadata": {},
     "output_type": "display_data"
    }
   ],
   "source": [
    "# Create month_added columns and a month to them\n",
    "df[\"month_added\"] = df[\"date_added\"].dt.strftime('%b')\n",
    "\n",
    "# This is how I want to order my chart Jan-Dec\n",
    "month_order = ['Jan', 'Feb', 'Mar', 'Apr', 'May', 'Jun', 'Jul', 'Aug', 'Sep', 'Oct', 'Nov', 'Dec']\n",
    "\n",
    "# Chart Size\n",
    "plt.figure(figsize=(16, 9))\n",
    "\n",
    "# Convert the column into a categorical type in order to order by months\n",
    "df['month_added'] = pd.Categorical(df['month_added'], categories=month_order, ordered=True)\n",
    "\n",
    "# Bar Chart\n",
    "bar = df[\"month_added\"].value_counts().sort_index().plot(kind=\"bar\", color=\"red\", edgecolor=\"black\")\n",
    "\n",
    "# Titles and labels\n",
    "plt.title(\"Number of Titles Added Per Month\", fontsize=16, fontweight=\"bold\", pad=15)\n",
    "plt.xlabel(\"Month\", fontsize=14, labelpad=10)\n",
    "plt.ylabel(\"Count\", fontsize=14, labelpad=10)\n",
    "\n",
    "# Ticks\n",
    "plt.xticks(rotation=0)\n",
    "\n",
    "# Gridlines\n",
    "plt.grid(axis=\"y\", linestyle=\"--\", alpha=0.5)\n",
    "\n",
    "# Add count labels on top of bars\n",
    "for p in bar.patches:\n",
    "    bar.annotate(\n",
    "        f\"{p.get_height()}\", \n",
    "        (p.get_x() + p.get_width() / 2, p.get_height()), \n",
    "        ha=\"center\", va=\"bottom\", fontsize=12, fontweight=\"normal\", \n",
    "    )\n",
    "    \n",
    "# Remove top and right spines\n",
    "sns.despine()\n",
    "\n",
    "# Show plot\n",
    "plt.show()"
   ]
  },
  {
   "cell_type": "markdown",
   "id": "09c751c5-7e5a-4065-8663-560362a9e3ed",
   "metadata": {},
   "source": [
    "## Number of Titles Added Per Year"
   ]
  },
  {
   "cell_type": "code",
   "execution_count": 189,
   "id": "c22ff6d6-209b-4acf-8f0d-13d3fa7fb7f4",
   "metadata": {},
   "outputs": [
    {
     "data": {
      "image/png": "[encoded data removed]",
      "text/plain": [
       "<Figure size 1600x900 with 1 Axes>"
      ]
     },
     "metadata": {},
     "output_type": "display_data"
    }
   ],
   "source": [
    "# Filter the date_added column\n",
    "df_filtered = df[df['date_added'] >= '2015-01-01'].copy()\n",
    "\n",
    "# Create year_added column\n",
    "df_filtered['year_added'] = df_filtered['date_added'].dt.year\n",
    "\n",
    "# Chart Size\n",
    "plt.figure(figsize=(16, 9))\n",
    "\n",
    "# Bar Chart\n",
    "line = df_filtered['year_added'].value_counts().sort_index().plot(kind=\"line\", color=\"black\", marker='o', markersize=8, markeredgecolor='black', markerfacecolor='red')\n",
    "\n",
    "# Titles and labels\n",
    "plt.title(\"Number of Titles Added Per Year\", fontsize=16, fontweight=\"bold\", pad=15)\n",
    "plt.xlabel(\"Year\", fontsize=14, labelpad=10)\n",
    "plt.ylabel(\"Count\", fontsize=14, labelpad=10)\n",
    "\n",
    "# Ticks\n",
    "plt.xticks(rotation=0)\n",
    "\n",
    "# Gridlines\n",
    "plt.grid(axis=\"y\", linestyle=\"--\", alpha=0.5)\n",
    "\n",
    "# Add count labels on top of markers\n",
    "for x, y in zip(df_filtered['year_added'].value_counts().sort_index().index, df_filtered['year_added'].value_counts().sort_index()):\n",
    "    plt.annotate(\n",
    "        f\"{y}\",\n",
    "        (x, y),\n",
    "        textcoords=\"offset points\",\n",
    "        xytext=(0, 10),\n",
    "        ha='center',\n",
    "        fontsize=12,\n",
    "        fontweight=\"normal\"\n",
    "    )\n",
    "    \n",
    "# Remove top and right spines\n",
    "sns.despine()\n",
    "\n",
    "# Show plot\n",
    "plt.show()"
   ]
  }
 ],
 "metadata": {
  "kernelspec": {
   "display_name": "data_science",
   "language": "python",
   "name": "python3"
  },
  "language_info": {
   "codemirror_mode": {
    "name": "ipython",
    "version": 3
   },
   "file_extension": ".py",
   "mimetype": "text/x-python",
   "name": "python",
   "nbconvert_exporter": "python",
   "pygments_lexer": "ipython3",
   "version": "3.12.0"
  }
 },
 "nbformat": 4,
 "nbformat_minor": 5
}
